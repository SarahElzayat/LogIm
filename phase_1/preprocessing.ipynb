{
 "cells": [
  {
   "cell_type": "code",
   "execution_count": 1,
   "id": "6540cc7b",
   "metadata": {},
   "outputs": [],
   "source": [
    "import sys\n",
    "from commonfunctions import *\n",
    "import matplotlib.pyplot as plt\n",
    "import numpy as np\n",
    "import skimage.io as io\n",
    "from skimage.color import rgb2gray\n",
    "from scipy.ndimage import interpolation as inter\n",
    "from skimage.morphology import binary_erosion, binary_dilation\n",
    "\n",
    "import cv2\n",
    "from utlis import *"
   ]
  },
  {
   "cell_type": "code",
   "execution_count": 2,
   "id": "3ee80cfb",
   "metadata": {},
   "outputs": [],
   "source": [
    "def skew_correction(image, showTrace):\n",
    "        \n",
    "    # correct skew\n",
    "    def RotationAngle(binImg):\n",
    "        def find_score(arr, angle):\n",
    "            data = inter.rotate(arr, angle, reshape=False, order=0)\n",
    "            hist = np.sum(data, axis=1)\n",
    "            score = np.sum((hist[1:] - hist[:-1]) ** 2)\n",
    "            return hist, score\n",
    "        delta = 1\n",
    "        limit = 50\n",
    "        angles = np.arange(-limit, limit+delta, delta)\n",
    "        scores = []\n",
    "        for angle in angles:\n",
    "            hist, score = find_score(binImg, angle)\n",
    "            scores.append(score)\n",
    "        best_score = max(scores)\n",
    "        best_angle = angles[scores.index(best_score)]\n",
    "        return best_angle\n",
    "\n",
    "    def RotateImage(thresh2,angle):\n",
    "        (h, w) = thresh2.shape\n",
    "        (cX, cY) = (w // 2, h // 2)\n",
    "        M = cv2.getRotationMatrix2D((cX, cY), angle, 1.0)\n",
    "        rotated_image = cv2.warpAffine(thresh2, M, (w, h),borderMode=cv2.BORDER_CONSTANT,borderValue=(255,255,255))\n",
    "        return rotated_image\n",
    "\n",
    "    img = cv2.cvtColor(image, cv2.COLOR_BGR2GRAY)\n",
    "    thresh2 = cv2.adaptiveThreshold(img, 255, cv2.ADAPTIVE_THRESH_MEAN_C,cv2.THRESH_BINARY, 11, 5) # increasing box size will make elements delated in high ratio\n",
    "    rotated = RotateImage(thresh2,RotationAngle(thresh2))\n",
    "    if(showTrace):\n",
    "        show_images([rotated])\n",
    "    \n",
    "    return rotated"
   ]
  },
  {
   "cell_type": "code",
   "execution_count": 3,
   "id": "4516a8de",
   "metadata": {},
   "outputs": [],
   "source": [
    "def trepozoidal_correction(image, showTrace): \n",
    "    # Image modification\n",
    "    img_original = image.copy()\n",
    "    img = image.copy()\n",
    "    gray = cv2.cvtColor(img, cv2.COLOR_BGR2GRAY)\n",
    "    gray = cv2.bilateralFilter(gray, 50, 15, 15)\n",
    "    edged = cv2.Canny(gray, 50, 50)\n",
    "    kernel = np.ones((7, 7))\n",
    "    dilatedImg = cv2.dilate(edged, kernel, iterations=2)\n",
    "    edged = cv2.erode(dilatedImg, kernel, iterations=1)\n",
    "    # cv2.imwrite(\"mine.jpg\",edged)\n",
    "\n",
    "\n",
    "    # Contour detection\n",
    "    contours, hierarchy = cv2.findContours(edged.copy(), cv2.RETR_TREE, cv2.CHAIN_APPROX_SIMPLE)\n",
    "    ContourFrame = img.copy()\n",
    "    ContourFrame = cv2.drawContours(ContourFrame, contours, -1,  (0, 255, 0), 10)\n",
    "\n",
    "    biggest, max_area = biggestContour(contours)\n",
    "\n",
    "    new_img = cv2.drawContours(img, [biggest], -1, (0, 255, 0), 3)\n",
    "    if(showTrace): show_images([ContourFrame,new_img])\n",
    "\n",
    "    # Pixel values in the original image\n",
    "    points = biggest.reshape(4, 2)\n",
    "    input_points = np.zeros((4, 2), dtype=\"float32\")\n",
    "\n",
    "    points_sum = points.sum(axis=1)\n",
    "    input_points[0] = points[np.argmin(points_sum)]\n",
    "    input_points[3] = points[np.argmax(points_sum)]\n",
    "\n",
    "    points_diff = np.diff(points, axis=1)\n",
    "    input_points[1] = points[np.argmin(points_diff)]\n",
    "    input_points[2] = points[np.argmax(points_diff)]\n",
    "\n",
    "    (top_left, top_right, bottom_right, bottom_left) = input_points\n",
    "    bottom_width = np.sqrt(((bottom_right[0] - bottom_left[0]) ** 2) + ((bottom_right[1] - bottom_left[1]) ** 2))\n",
    "    top_width = np.sqrt(((top_right[0] - top_left[0]) ** 2) + ((top_right[1] - top_left[1]) ** 2))\n",
    "    right_height = np.sqrt(((top_right[0] - bottom_right[0]) ** 2) + ((top_right[1] - bottom_right[1]) ** 2))\n",
    "    left_height = np.sqrt(((top_left[0] - bottom_left[0]) ** 2) + ((top_left[1] - bottom_left[1]) ** 2))\n",
    "\n",
    "    # Output image size\n",
    "    max_width = max(int(bottom_width), int(top_width))\n",
    "    # max_height = max(int(right_height), int(left_height))\n",
    "    max_height = int(max_width * 1.414)  # for A4\n",
    "\n",
    "    # Desired points values in the output image\n",
    "    converted_points = np.float32([[0, 0], [max_width, 0], [0, max_height], [max_width, max_height]])\n",
    "\n",
    "    # Perspective transformation\n",
    "    matrix = cv2.getPerspectiveTransform(input_points, converted_points)\n",
    "    img_output = cv2.warpPerspective(img_original, matrix, (max_width, max_height))\n",
    "\n",
    "    # Image shape modification for hstack\n",
    "    gray = np.stack((gray,) * 3, axis=-1)\n",
    "    edged = np.stack((edged,) * 3, axis=-1)\n",
    "\n",
    "    if(showTrace):\n",
    "        show_images([img_original, gray, edged])\n",
    "        show_images([ContourFrame])\n",
    "        show_images([ img, img_output])\n",
    "    return img_output"
   ]
  },
  {
   "cell_type": "code",
   "execution_count": 4,
   "id": "5d294681",
   "metadata": {},
   "outputs": [],
   "source": [
    "def CheckAlgo(image,showTrace):\n",
    "    img = cv2.resize(image, (480*2, 640*2))\n",
    "    imgGray = cv2.cvtColor(img,cv2.COLOR_BGR2GRAY)\n",
    "    imgThre= cv2.adaptiveThreshold(imgGray, 255, cv2.ADAPTIVE_THRESH_MEAN_C, \n",
    "       cv2.THRESH_BINARY_INV, 1001, 5)\n",
    "\n",
    "    imgThre2 = cv2.bitwise_not(imgThre)\n",
    "    imgThre3 =cv2.medianBlur(imgThre2,3)\n",
    "    w, h = imgThre3.shape\n",
    "\n",
    "    if(showTrace):\n",
    "        show_images([img,imgThre,imgThre2,imgThre3]) \n",
    "\n",
    "    top = np.sum(imgThre3[0:20, 0:h])/(20*h)\n",
    "    bottom = np.sum(imgThre3[w-20:w, 0:h])/(20*h)\n",
    "    right = np.sum(imgThre3[0:w, 0:20])/(20*w)\n",
    "    left = np.sum(imgThre3[0:w, h-20:h])/(20*w)\n",
    "    check = (top+bottom+right+left)/4\n",
    "    return check"
   ]
  },
  {
   "cell_type": "code",
   "execution_count": 18,
   "id": "c1f60b0a",
   "metadata": {},
   "outputs": [],
   "source": [
    "#initializing\n",
    "def preprocessing (image, showTrace = False):\n",
    "    check = CheckAlgo(image,showTrace)\n",
    "    if(check<100):\n",
    "        img = trepozoidal_correction(image, showTrace)\n",
    "        # img = trap(image)\n",
    "        img = cv2.cvtColor(img,cv2.COLOR_BGR2GRAY)\n",
    "        img= cv2.adaptiveThreshold(img, 255, cv2.ADAPTIVE_THRESH_GAUSSIAN_C, \n",
    "            cv2.THRESH_BINARY, 51, 12)\n",
    "    else:\n",
    "        img = cv2.cvtColor(image,cv2.COLOR_BGR2GRAY)\n",
    "        img= cv2.adaptiveThreshold(img, 255, cv2.ADAPTIVE_THRESH_GAUSSIAN_C, \n",
    "            cv2.THRESH_BINARY, 101, 12)\n",
    "        # img = skew_correction(image, showTrace)\n",
    "    return img"
   ]
  },
  {
   "cell_type": "code",
   "execution_count": 39,
   "id": "482833a8",
   "metadata": {},
   "outputs": [
    {
     "name": "stdout",
     "output_type": "stream",
     "text": [
      "(26, 1, 4)\n"
     ]
    },
    {
     "data": {
      "image/png": "[encoded data removed]",
      "text/plain": [
       "<Figure size 432x288 with 1 Axes>"
      ]
     },
     "metadata": {
      "needs_background": "light"
     },
     "output_type": "display_data"
    },
    {
     "data": {
      "image/png": "[encoded data removed]",
      "text/plain": [
       "<Figure size 432x288 with 1 Axes>"
      ]
     },
     "metadata": {
      "needs_background": "light"
     },
     "output_type": "display_data"
    }
   ],
   "source": [
    "img = cv2.imread(\"table extraction/table_images/table8.png\")\n",
    "# img = cv2.imread(\"grade sheet/2.jpg\") \n",
    "img = cv2.resize(img, (2448, 3264)) # size of A4\n",
    "img = img.astype(np.uint8)\n",
    "img = preprocessing(img, showTrace=False)\n",
    "cv2.imwrite(\"printed.jpg\",img)\n",
    "show_images([img])"
   ]
  },
  {
   "cell_type": "code",
   "execution_count": null,
   "id": "affd7682",
   "metadata": {},
   "outputs": [],
   "source": []
  }
 ],
 "metadata": {
  "kernelspec": {
   "display_name": "base",
   "language": "python",
   "name": "python3"
  },
  "language_info": {
   "codemirror_mode": {
    "name": "ipython",
    "version": 3
   },
   "file_extension": ".py",
   "mimetype": "text/x-python",
   "name": "python",
   "nbconvert_exporter": "python",
   "pygments_lexer": "ipython3",
   "version": "3.9.12"
  },
  "vscode": {
   "interpreter": {
    "hash": "513892303a9398ba70ad4a62253ed19c1d7e2335957cb3e866a635ce3305c602"
   }
  }
 },
 "nbformat": 4,
 "nbformat_minor": 5
}
