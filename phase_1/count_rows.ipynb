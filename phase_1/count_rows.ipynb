{
 "cells": [
  {
   "cell_type": "code",
   "execution_count": 1,
   "metadata": {},
   "outputs": [],
   "source": [
    "import commonfunctions as cf\n",
    "from skimage.color import rgba2rgb\n",
    "import cv2\n",
    "import numpy as np\n",
    "import matplotlib.pyplot as plt"
   ]
  },
  {
   "cell_type": "code",
   "execution_count": 2,
   "metadata": {},
   "outputs": [],
   "source": [
    "def count_rows(image):\n",
    "    _,inverted_image = cv2.threshold(image,127,255,cv2.THRESH_BINARY_INV)\n",
    "    # TODO remove after integrating prepsocessing\n",
    "\n",
    "    \n",
    "    h = image.shape[0]\n",
    "    w = image.shape[1]\n",
    "    h = cf.math.ceil(h *0.01)\n",
    "    \n",
    "    #the structure element used\n",
    "    se = np.ones(shape = (h,w//5))\n",
    "    # dilated = cv2.morphologyEx(inverted_image, cv2.MORPH_CLOSE, kernel = se)\n",
    "    dilated = cv2.dilate(inverted_image,kernel=se)\n",
    "    cf.io.imshow(dilated)\n",
    "    \n",
    "    \n",
    "    contours, hierarchy = cv2.findContours(dilated, cv2.RETR_LIST, cv2.CHAIN_APPROX_SIMPLE)\n",
    "    contours = list(filter(lambda cnt: cv2.contourArea(cnt,True) < 0 , contours)) \n",
    "    contours_list = [(x,y,w,h) for x,y,w,h in [cv2.boundingRect(c) for c in contours]]\n",
    "    contours_list = sorted(contours_list, key=lambda ctr: ctr[1])\n",
    "\n",
    "    rows = []\n",
    "    \n",
    "    for (x,y,w,h) in (contours_list):\n",
    "        rows.append(image[y:y+h, x:x+w])\n",
    "        \n",
    "    print(len(rows))\n",
    "    cf.show_images(rows)\n",
    "    return rows\n",
    "\n"
   ]
  },
  {
   "cell_type": "code",
   "execution_count": 1,
   "metadata": {},
   "outputs": [],
   "source": [
    "# img1 = cf.io.imread('./test_images/2.png')\n",
    "# img2 = cf.io.imread('./test_images/handwritten.png') \n",
    "# img3 = cf.io.imread('./test_images/6_lines.png') \n",
    "# img4 = cf.io.imread('./test_images/3_separate_lines.png') \n",
    "\n",
    "\n",
    "# # result1,len1 = count_rows(img1)\n",
    "# result2,len2,ret = count_rows(img2)\n",
    "# # result3,len3,ret = count_rows(img3)\n",
    "# # result4,len4,ret = count_rows(img4)\n",
    "\n"
   ]
  }
 ],
 "metadata": {
  "kernelspec": {
   "display_name": "Python 3.9.12 ('py39')",
   "language": "python",
   "name": "python3"
  },
  "language_info": {
   "codemirror_mode": {
    "name": "ipython",
    "version": 3
   },
   "file_extension": ".py",
   "mimetype": "text/x-python",
   "name": "python",
   "nbconvert_exporter": "python",
   "pygments_lexer": "ipython3",
   "version": "3.9.12"
  },
  "orig_nbformat": 4,
  "vscode": {
   "interpreter": {
    "hash": "8b7cb3eff9408597125ae058882f88ba16460fda369a0b9ade5bfac8e11378a0"
   }
  }
 },
 "nbformat": 4,
 "nbformat_minor": 2
}
