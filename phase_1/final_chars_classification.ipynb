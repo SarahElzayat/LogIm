{
 "cells": [
  {
   "cell_type": "code",
   "execution_count": 19,
   "metadata": {},
   "outputs": [],
   "source": [
    "import numpy as np\n",
    "import pandas as pd\n",
    "import matplotlib.pyplot as plt\n",
    "import cv2\n",
    "import os\n",
    "from numba import njit,prange\n",
    "from sklearn.metrics import accuracy_score\n",
    "from sklearn.metrics import confusion_matrix\n",
    "from sklearn.model_selection import train_test_split\n",
    "from sklearn.utils import shuffle\n",
    "from commonfunctions import *\n",
    "from collections import defaultdict\n",
    "from collections import Counter\n",
    "from sklearn import svm\n",
    "from sklearn import metrics\n",
    "import seaborn as sns\n",
    "\n",
    "from sklearn.linear_model import SGDClassifier\n",
    "\n",
    "import joblib\n",
    "\n"
   ]
  },
  {
   "cell_type": "code",
   "execution_count": 20,
   "metadata": {},
   "outputs": [],
   "source": [
    "%%capture\n",
    "%run  letters_extraction.ipynb\n"
   ]
  },
  {
   "cell_type": "code",
   "execution_count": 21,
   "metadata": {},
   "outputs": [],
   "source": [
    "model_0_1 , model_letters, model_all, model_E_F = 0,0,0,0\n",
    "d = 0\n"
   ]
  },
  {
   "cell_type": "code",
   "execution_count": 22,
   "metadata": {},
   "outputs": [],
   "source": [
    "winSize = (64,64)\n",
    "blockSize = (8,8)\n",
    "blockStride = (8,8)\n",
    "cellSize = (8,8)\n",
    "nbins = 9\n",
    "\n",
    "hog = cv2.HOGDescriptor(winSize, blockSize, blockStride, cellSize, nbins)"
   ]
  },
  {
   "cell_type": "code",
   "execution_count": 23,
   "metadata": {},
   "outputs": [],
   "source": [
    "def prepare_image(img):\n",
    "    image = cv2.cvtColor(img, cv2.COLOR_BGR2GRAY)\n",
    "    image = get_letters(image)[0]\n",
    "    return image\n",
    "\n",
    "def images_resize(directory):\n",
    "    list_target_names = []\n",
    "    list_images = []\n",
    "        \n",
    "    for path, subdirs, files in os.walk(directory):\n",
    "        if(path.startswith(directory + '.')):\n",
    "            continue\n",
    "        files = [f for f in files if not f[0] == '.'] # Ignore '.directory' file\n",
    "        print(path, len(files))\n",
    "        # limit = 600\n",
    "        # if len(files) > limit:\n",
    "        #     files = files[:limit]\n",
    "            \n",
    "        for name in files:\n",
    "            image=cv2.imread(os.path.join(path, name))\n",
    "            image = prepare_image(image)\n",
    "            # image=cv2.resize(image, (100, 100))\n",
    "            list_target_names.append(os.path.basename(path))\n",
    "            list_images.append(image)\n",
    "    \n",
    "    return list_target_names,  list_images \n",
    " "
   ]
  },
  {
   "cell_type": "code",
   "execution_count": 24,
   "metadata": {},
   "outputs": [],
   "source": [
    "def load_data(directory):\n",
    "    global d;\n",
    "    Name=[]\n",
    "    for file in os.listdir(directory):\n",
    "        Name+=[file]\n",
    "    \n",
    "    #################################\n",
    "    d = defaultdict(int)\n",
    "    co = 0\n",
    "    for x in sorted(os.listdir(directory)):\n",
    "        if not x.startswith('.') and not d[x]:\n",
    "            d[x] = co\n",
    "            co+=1\n",
    "    #########################\n",
    "    target_names,images = images_resize(directory)\n",
    "    #########################\n",
    "    # c = Counter(sorted(target_names))\n",
    "    # target_names = [ d[key] for key in target_names ]\n",
    "    target_names_shuffled, images_shuffled = shuffle(np.array(target_names), np.array(images))\n",
    "    \n",
    "    ############reshaping#############\n",
    "    n_samples,nx,ny= images_shuffled.shape\n",
    "    # n_samples,nx,ny= np.array(images).shape\n",
    "    \n",
    "    images_shuffled2 = np.array([hog.compute(image)  for image in images_shuffled])\n",
    "\n",
    "    images_shuffled2 = images_shuffled2.reshape(n_samples,-1)\n",
    "    # images2 = images2.reshape(n_samples,-1)\n",
    "        \n",
    "    Xtrain, Xtest, ytrain, ytest = train_test_split(images_shuffled2, target_names_shuffled, random_state=0, test_size=0.2)\n",
    "    # Xtrain, Xtest, ytrain, ytest = train_test_split(images2, target_names, train_size= 0.2, random_state=5, shuffle= True)\n",
    "    \n",
    "    return Xtrain, Xtest, ytrain, ytest \n",
    "    "
   ]
  },
  {
   "cell_type": "code",
   "execution_count": 25,
   "metadata": {},
   "outputs": [],
   "source": [
    "def train_model( directory, filename, verbose = False, is_e_f = False):\n",
    "    \n",
    "    Xtrain, Xtest, ytrain, ytest = load_data(directory)\n",
    "\n",
    "    ####### training #######\n",
    "    if is_e_f :\n",
    "        model = SGDClassifier(loss=\"hinge\", penalty=\"l2\", max_iter=5)\n",
    "    else:\n",
    "        model = svm.SVC(gamma = 0.001, C =100)\n",
    "    model.fit(Xtrain, ytrain)\n",
    "    ypred = model.predict(Xtest)\n",
    "    \n",
    "    ########### save model ########\n",
    "    joblib.dump(model, filename)\n",
    "    \n",
    "    if(verbose):\n",
    "        # sns.set(rc={'figure.figsize':(15,12)})\n",
    "        mat = confusion_matrix(ytest, ypred)\n",
    "        sns.heatmap(mat.T, square=True, annot=True, fmt='d', cbar=False, xticklabels=list(d.keys()), yticklabels=list(d.keys()))\n",
    "        plt.xlabel('true label')\n",
    "        plt.ylabel('predicted label')\n",
    "        plt.show()\n",
    "        \n",
    "    return model"
   ]
  },
  {
   "cell_type": "code",
   "execution_count": 26,
   "metadata": {},
   "outputs": [],
   "source": [
    "def initialize_models(verbose = False):\n",
    "       global model_all;\n",
    "       global model_0_1;\n",
    "       global model_letters;\n",
    "       global model_E_F;\n",
    "       model_all =train_model(directory= './all_symbols/', filename = './saved_models/model_all.sav', verbose= verbose)        \n",
    "       model_0_1 =train_model(directory= './0_1_symbols/', filename = './saved_models/model_0_1.sav', verbose= verbose)\n",
    "       model_letters =train_model(directory= './letters_only_symbols/', filename = './saved_models/model_letters.sav', verbose= verbose)\n",
    "       model_E_F =train_model(directory= './E_F_symbols/', filename = './saved_models/model_E_F.sav', verbose= verbose, is_e_f= True)\n",
    "        "
   ]
  },
  {
   "cell_type": "code",
   "execution_count": 27,
   "metadata": {},
   "outputs": [],
   "source": [
    "def load_models(is_expression = True, is_table = True):\n",
    "    \n",
    "    global model_all;\n",
    "    global model_0_1;\n",
    "    global model_letters;\n",
    "    global model_E_F;\n",
    "    if(is_table):\n",
    "        model_0_1 = joblib.load('./saved_models/model_0_1.sav')\n",
    "        model_letters = joblib.load('./saved_models/model_letters.sav')\n",
    "        \n",
    "    \n",
    "    if(is_expression):\n",
    "        model_all = joblib.load('./saved_models/model_all.sav')\n",
    "    \n",
    "    model_E_F = joblib.load('./saved_models/model_E_F.sav')"
   ]
  },
  {
   "cell_type": "code",
   "execution_count": 28,
   "metadata": {},
   "outputs": [],
   "source": [
    "def classify(img, is_expression=False, is_0_1=False, is_letter=False, verbose = False):\n",
    "    \n",
    "    # print(img)\n",
    "    letters_res = np.array(get_letters(img, verbose= verbose))\n",
    "\n",
    "    \n",
    "    hog_images = np.array([hog.compute(image)  for image in letters_res])\n",
    "    # hog_images = np.array([cv2.cornerHarris(image, 2, 3, 0.04)  for image in letters_res])\n",
    "    \n",
    "    show_images([hog_images])\n",
    "    # hog_images = hog.compute(img)\n",
    "    if(is_letter):\n",
    "        results =  model_letters.predict(hog_images)\n",
    "        for i, r in enumerate(results):\n",
    "            if r == 'E' or r == 'F':\n",
    "                results[i] = model_E_F.predict([hog_images[i]])[0]\n",
    "        return results\n",
    "    \n",
    "    if(is_0_1):\n",
    "        return model_0_1.predict(hog_images)\n",
    "    \n",
    "    \n",
    "    results =  model_all.predict(hog_images)\n",
    "    for i, r in enumerate(results):\n",
    "        if r == 'E' or r == 'F':\n",
    "            results[i] = model_E_F.predict([hog_images[i]])[0]\n",
    "    \n",
    "    return results\n"
   ]
  },
  {
   "cell_type": "code",
   "execution_count": 29,
   "metadata": {},
   "outputs": [],
   "source": [
    "# initialize_models()\n",
    "load_models()"
   ]
  },
  {
   "cell_type": "code",
   "execution_count": 30,
   "metadata": {},
   "outputs": [
    {
     "data": {
      "image/png": "[encoded data removed]",
      "text/plain": [
       "<Figure size 432x288 with 1 Axes>"
      ]
     },
     "metadata": {
      "needs_background": "light"
     },
     "output_type": "display_data"
    },
    {
     "name": "stdout",
     "output_type": "stream",
     "text": [
      "img shape: (2194, 1551), max=255, min=0,median=255.0 and type uint8\n",
      "tolerance: 77.55000000000001\n"
     ]
    },
    {
     "data": {
      "image/png": "[encoded data removed]",
      "text/plain": [
       "<Figure size 432x288 with 1 Axes>"
      ]
     },
     "metadata": {
      "needs_background": "light"
     },
     "output_type": "display_data"
    },
    {
     "data": {
      "image/png": "[encoded data removed]",
      "text/plain": [
       "<Figure size 432x288 with 1 Axes>"
      ]
     },
     "metadata": {
      "needs_background": "light"
     },
     "output_type": "display_data"
    },
    {
     "name": "stdout",
     "output_type": "stream",
     "text": [
      "contours before area filtering\n",
      "-971.0, -4443.5, -3083.0, -5643.0, 2497.5, 2815.0, 3436.0, -3751.0, -5721.0, -6102.0, 22268.5, -9495.5, 33333.0, -3399150.0, \n",
      "average_area 12870.0\n",
      "average_width 191.6\n",
      "average_height 157.6\n",
      "contours after area filtering\n",
      "2497.5, 2815.0, 3436.0, 22268.5, 33333.0, \n",
      "masks\n"
     ]
    },
    {
     "data": {
      "image/png": "[encoded data removed]",
      "text/plain": [
       "<Figure size 2160x1440 with 5 Axes>"
      ]
     },
     "metadata": {
      "needs_background": "light"
     },
     "output_type": "display_data"
    },
    {
     "name": "stdout",
     "output_type": "stream",
     "text": [
      "contours after merging\n"
     ]
    },
    {
     "data": {
      "image/png": "[encoded data removed]",
      "text/plain": [
       "<Figure size 2160x1440 with 5 Axes>"
      ]
     },
     "metadata": {
      "needs_background": "light"
     },
     "output_type": "display_data"
    },
    {
     "data": {
      "image/png": "[encoded data removed]",
      "text/plain": [
       "<Figure size 432x288 with 1 Axes>"
      ]
     },
     "metadata": {
      "needs_background": "light"
     },
     "output_type": "display_data"
    },
    {
     "name": "stdout",
     "output_type": "stream",
     "text": [
      "['+' 'xor' 'xor' '+' 'implies']\n"
     ]
    }
   ],
   "source": [
    "letters= cv2.cvtColor(cv2.imread(r\"./test_images/classification1.png\"), cv2.COLOR_BGR2GRAY)\n",
    "show_images([letters])\n",
    "# letters_res = np.array(get_letters(letters, verbose= False))\n",
    "# show_images(letters_res)\n",
    "\n",
    "# letters_res = np.array([hog.compute(image) for image in letters_res])\n",
    "# print(letters_res.shape)\n",
    "\n",
    "results = classify( letters, is_expression=True, verbose=True) \n",
    "\n",
    "print(results)\n",
    "\n",
    "\n"
   ]
  },
  {
   "cell_type": "code",
   "execution_count": 31,
   "metadata": {},
   "outputs": [],
   "source": [
    "# letters= cv2.cvtColor(cv2.imread(r\"./test_images/ef.png\"), cv2.COLOR_BGR2GRAY)\n",
    "# show_images([letters])\n",
    "# letters_res = np.array(get_letters(letters, verbose= False))\n",
    "# show_images(letters_res)\n",
    "\n",
    "# results = classify(letters_res, is_expression=True)\n",
    "# print(results)"
   ]
  },
  {
   "cell_type": "code",
   "execution_count": 32,
   "metadata": {},
   "outputs": [],
   "source": [
    "# letters= cv2.cvtColor(cv2.imread(r\"./test_images/all.png\"), cv2.COLOR_BGR2GRAY)\n",
    "# show_images([letters])\n",
    "# letters_res = np.array(get_letters(letters, verbose= False))\n",
    "# show_images(letters_res)\n",
    "\n",
    "# results = classify(letters_res, is_expression=True)\n",
    "# print(results)"
   ]
  }
 ],
 "metadata": {
  "kernelspec": {
   "display_name": "base",
   "language": "python",
   "name": "python3"
  },
  "language_info": {
   "codemirror_mode": {
    "name": "ipython",
    "version": 3
   },
   "file_extension": ".py",
   "mimetype": "text/x-python",
   "name": "python",
   "nbconvert_exporter": "python",
   "pygments_lexer": "ipython3",
   "version": "3.9.12"
  },
  "orig_nbformat": 4,
  "vscode": {
   "interpreter": {
    "hash": "52d90d3cc821dd0beedd6e719dbdecc722c226b9d90ed1b663c34e1877f1142e"
   }
  }
 },
 "nbformat": 4,
 "nbformat_minor": 2
}
