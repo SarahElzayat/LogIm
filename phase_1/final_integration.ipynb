{
 "cells": [
  {
   "cell_type": "code",
   "execution_count": 1,
   "metadata": {},
   "outputs": [],
   "source": [
    "%%capture\n",
    "%run final_chars_classification.ipynb\n",
    "\n"
   ]
  },
  {
   "cell_type": "code",
   "execution_count": 2,
   "metadata": {},
   "outputs": [],
   "source": [
    "%run table_detector.ipynb"
   ]
  },
  {
   "cell_type": "code",
   "execution_count": 3,
   "metadata": {},
   "outputs": [],
   "source": [
    "%run final_functions.ipynb"
   ]
  },
  {
   "cell_type": "code",
   "execution_count": 4,
   "metadata": {},
   "outputs": [],
   "source": [
    "%run preprocessing.ipynb"
   ]
  },
  {
   "cell_type": "code",
   "execution_count": 5,
   "metadata": {},
   "outputs": [],
   "source": [
    "%run get_rows_number.ipynb"
   ]
  },
  {
   "cell_type": "code",
   "execution_count": 6,
   "metadata": {},
   "outputs": [],
   "source": [
    "# initialize_models()\n",
    "load_models()"
   ]
  },
  {
   "cell_type": "code",
   "execution_count": 7,
   "metadata": {},
   "outputs": [],
   "source": [
    "from tabular import tabular"
   ]
  },
  {
   "cell_type": "code",
   "execution_count": 8,
   "metadata": {},
   "outputs": [],
   "source": [
    "def solve_expression(img, is_table = False):\n",
    "    \n",
    "    img = cv2.resize(img, (2448, 3264)) # size of A4\n",
    "    img = img.astype(np.uint8)\n",
    "    img = preprocessing(img, False)\n",
    "    \n",
    "    show_images([img])\n",
    "\n",
    "    if(is_table):\n",
    "        # show_images([table_tany(img)])\n",
    "        # table_tany(img)\n",
    "        cells, col_num, row_num = box_extraction(img, showTrace= False)#, table= True)\n",
    "\n",
    "        letters = [classify(i, is_letter=True) for i in cells[0:col_num]]\n",
    "        numbers = [classify(i, is_0_1=True) for i in cells[col_num:]]\n",
    "        \n",
    "        numbers = [int(i) for i in numbers]\n",
    "        # for l in letters:\n",
    "        print(letters)\n",
    "        # for l in numbers:\n",
    "        print(numbers)\n",
    "        #  # numbers.shape\n",
    "         \n",
    "        print(col_num)\n",
    "        # print(numbers)\n",
    "        solver = tabular.McCluskey()\n",
    "        solver.solve(numbers,col_num)\n",
    "        \n",
    "        solver.logic()\n",
    "        \n",
    "\n",
    "    else: \n",
    "\n",
    "        expression_rows = get_rows_number(img)\n",
    "        expressions = [classify(i, is_expression=True) for i in expression_rows ]\n",
    "        # print(expression)\n",
    "        return [get_table(expression) for expression in expressions]\n",
    "        # return expression\n",
    "\n",
    "    "
   ]
  },
  {
   "cell_type": "code",
   "execution_count": 12,
   "metadata": {},
   "outputs": [
    {
     "data": {
      "image/png": "[encoded data removed]",
      "text/plain": [
       "<Figure size 640x480 with 1 Axes>"
      ]
     },
     "metadata": {},
     "output_type": "display_data"
    },
    {
     "name": "stdout",
     "output_type": "stream",
     "text": [
      "[array(['A'], dtype='<U1'), array(['B'], dtype='<U1'), array(['C'], dtype='<U1')]\n",
      "[0, 0, 0, 0, 1, 1, 1, 0, 1, 1, 1, 1]\n",
      "3\n",
      "\n",
      "\n",
      "\n",
      "\n",
      "Group No.\tMinterms\tBinary of Minterms\n",
      "==================================================\n",
      "    1:\n",
      "\t\t    1                   01\n",
      "\t\t    2                   10\n",
      "--------------------------------------------------\n",
      "    2:\n",
      "\t\t    3                   11\n",
      "--------------------------------------------------\n",
      "Unmarked elements(Prime Implicants) of this table: None\n",
      "\n",
      "\n",
      "\n",
      "\n",
      "Group No.\tMinterms\tBinary of Minterms\n",
      "==================================================\n",
      "    0:\n",
      "\t\t1,3                     -1\n",
      "\t\t2,3                     1-\n",
      "--------------------------------------------------\n",
      "Unmarked elements(Prime Implicants) of this table: 1-, -1\n",
      "\n",
      "\n",
      "All Prime Implicants:  1-, -1\n",
      "\n",
      "\n",
      "\n",
      "Prime Implicants chart:\n",
      "\n",
      "    Minterms    |1 2 3\n",
      "======================\n",
      "2,3             |  X X\n",
      "----------------------\n",
      "1,3             |X   X\n",
      "----------------------\n",
      "\n",
      "Essential Prime Implicants: 1-, -1\n",
      "\n",
      "\n",
      "Solution: F = A + B\n"
     ]
    }
   ],
   "source": [
    "image = cv2.imread(\"./test_images/table3.jpg\")\n",
    "\n",
    "solve_expression(image, is_table=True)\n",
    "\n",
    "\n"
   ]
  },
  {
   "cell_type": "code",
   "execution_count": 10,
   "metadata": {},
   "outputs": [],
   "source": [
    "# show_images([table_tany(numbers)])"
   ]
  }
 ],
 "metadata": {
  "kernelspec": {
   "display_name": "base",
   "language": "python",
   "name": "python3"
  },
  "language_info": {
   "codemirror_mode": {
    "name": "ipython",
    "version": 3
   },
   "file_extension": ".py",
   "mimetype": "text/x-python",
   "name": "python",
   "nbconvert_exporter": "python",
   "pygments_lexer": "ipython3",
   "version": "3.9.13"
  },
  "orig_nbformat": 4,
  "vscode": {
   "interpreter": {
    "hash": "6aed28f9a78851c43da2b2382d0b32bbb8b6b4eda720ce0dee6d1ffb80b64718"
   }
  }
 },
 "nbformat": 4,
 "nbformat_minor": 2
}
