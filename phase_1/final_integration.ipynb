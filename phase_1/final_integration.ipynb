{
 "cells": [
  {
   "cell_type": "code",
   "execution_count": null,
   "metadata": {},
   "outputs": [],
   "source": [
    "# %%capture\n",
    "# %run final_chars_classification.ipynb\n",
    "\n"
   ]
  },
  {
   "cell_type": "code",
   "execution_count": null,
   "metadata": {},
   "outputs": [],
   "source": [
    "%run table_detector.ipynb"
   ]
  },
  {
   "cell_type": "code",
   "execution_count": null,
   "metadata": {},
   "outputs": [],
   "source": [
    "%run final_functions.ipynb"
   ]
  },
  {
   "cell_type": "code",
   "execution_count": null,
   "metadata": {},
   "outputs": [],
   "source": [
    "%run preprocessing.ipynb"
   ]
  },
  {
   "cell_type": "code",
   "execution_count": null,
   "metadata": {},
   "outputs": [],
   "source": [
    "%run get_rows_number.ipynb"
   ]
  },
  {
   "cell_type": "code",
   "execution_count": null,
   "metadata": {},
   "outputs": [],
   "source": [
    "# initialize_models(True)\n",
    "load_models()"
   ]
  },
  {
   "cell_type": "code",
   "execution_count": null,
   "metadata": {},
   "outputs": [],
   "source": [
    "from tabular import tabular\n",
    "import math"
   ]
  },
  {
   "cell_type": "code",
   "execution_count": null,
   "metadata": {},
   "outputs": [],
   "source": [
    "def solve_expression(img, is_table = False, showTrace = False):\n",
    "    \n",
    "    img = cv2.resize(img, (2448, 3264)) # size of A4\n",
    "    img = img.astype(np.uint8)\n",
    "    if(is_table):\n",
    "        # show_images([table_tany(img)])\n",
    "        # table_tany(img) \n",
    "        \n",
    "        img = table_preprocessing(img, showTrace)\n",
    "        if showTrace:\n",
    "            show_images([img])\n",
    "\n",
    "        cells, col_num, row_num = box_extraction(img, showTrace)#, table= True)\n",
    "\n",
    "        letters = [classify(i, is_letter=True, is_table=is_table) for i in cells[0:col_num]]\n",
    "        numbers = [classify(i, is_0_1=True, is_table=is_table) for i in cells[col_num:]]\n",
    "        \n",
    "        numbers = [int(i) for i in numbers]\n",
    "        \n",
    "        if True:\n",
    "            print(letters)\n",
    "            print(numbers)\n",
    "            print('cols numbers ' + str(col_num))\n",
    "        \n",
    "        \n",
    "        solver = tabular.McCluskey()\n",
    "        num_outputs = col_num-int(math.log(row_num-1,2))\n",
    "        print(f\"num_outputs: {num_outputs}\")\n",
    "        solver.solve(cells=numbers, num_col=col_num, num_outputs=num_outputs)\n",
    "\n",
    "    else: \n",
    "\n",
    "        img = expression_preprocessing(img, showTrace)\n",
    "        if showTrace:\n",
    "            show_images([img])\n",
    "\n",
    "        expression_rows = get_rows_number(img)\n",
    "        \n",
    "        if showTrace:\n",
    "            show_images(expression_rows)\n",
    "        expressions = [classify(i, is_expression=True, verbose=showTrace) for i in expression_rows ]\n",
    "        \n",
    "        if showTrace: print(expressions)\n",
    "        result = []\n",
    "        for ex in expressions:\n",
    "            try:\n",
    "                ex[1] ='='\n",
    "                result.append(get_table(ex))\n",
    "            except:\n",
    "                result.append('error')\n",
    "        \n",
    "        for r in result:\n",
    "            print(r)"
   ]
  },
  {
   "cell_type": "code",
   "execution_count": null,
   "metadata": {},
   "outputs": [],
   "source": [
    "# image = cv2.imread(\"./test_images/ex2.jpg\") # TEST R\n",
    "# image = cv2.imread(\"./test_images/ex1.jpg\")\n",
    "# image = cv2.imread(\"./test_images/t2.jpg\") # TEST R\n",
    "# image = cv2.imread(\"./test_images/exs/t29.jpg\") # TEST R\n",
    "image = cv2.imread(\"./test_images/exs/t30.jpg\") # TEST R\n",
    "\n",
    "result = solve_expression(image, is_table=False, showTrace=True)\n",
    "\n",
    "\n"
   ]
  },
  {
   "cell_type": "code",
   "execution_count": null,
   "metadata": {},
   "outputs": [],
   "source": [
    "image = cv2.imread(\"./test_images/exs/t35.jpg\") # TEST R\n",
    "# image = cv2.imread(\"./test_images/table8.png\") # TEST R\n",
    "\n",
    "result = solve_expression(image, is_table=True, showTrace=True)"
   ]
  }
 ],
 "metadata": {
  "kernelspec": {
   "display_name": "base",
   "language": "python",
   "name": "python3"
  },
  "language_info": {
   "codemirror_mode": {
    "name": "ipython",
    "version": 3
   },
   "file_extension": ".py",
   "mimetype": "text/x-python",
   "name": "python",
   "nbconvert_exporter": "python",
   "pygments_lexer": "ipython3",
   "version": "3.9.13"
  },
  "orig_nbformat": 4,
  "vscode": {
   "interpreter": {
    "hash": "6aed28f9a78851c43da2b2382d0b32bbb8b6b4eda720ce0dee6d1ffb80b64718"
   }
  }
 },
 "nbformat": 4,
 "nbformat_minor": 2
}
