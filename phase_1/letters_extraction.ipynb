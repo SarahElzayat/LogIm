{
 "cells": [
  {
   "cell_type": "code",
   "execution_count": 2,
   "metadata": {},
   "outputs": [],
   "source": [
    "import cv2\n",
    "import commonfunctions as cf\n",
    "import numpy as np\n",
    "import matplotlib.pyplot as plt\n",
    "from numba import njit,prange\n",
    "# import nbimporter\n",
    "# from count_rows import count_rows"
   ]
  },
  {
   "cell_type": "code",
   "execution_count": 3,
   "metadata": {},
   "outputs": [
    {
     "name": "stdout",
     "output_type": "stream",
     "text": [
      "img shape: (464, 1557), max=255, min=0,median=255.0 and type uint8\n"
     ]
    },
    {
     "data": {
      "image/png": "[encoded data removed]",
      "text/plain": [
       "<Figure size 640x480 with 1 Axes>"
      ]
     },
     "metadata": {},
     "output_type": "display_data"
    },
    {
     "data": {
      "image/png": "[encoded data removed]",
      "text/plain": [
       "<Figure size 640x480 with 1 Axes>"
      ]
     },
     "metadata": {},
     "output_type": "display_data"
    },
    {
     "name": "stdout",
     "output_type": "stream",
     "text": [
      "contours before area filtering\n",
      "3973.5, -720428.0, \n",
      "contours after area filtering\n",
      "3973.5, \n",
      "masks\n"
     ]
    },
    {
     "data": {
      "image/png": "[encoded data removed]",
      "text/plain": [
       "<Figure size 640x480 with 1 Axes>"
      ]
     },
     "metadata": {},
     "output_type": "display_data"
    },
    {
     "data": {
      "image/png": "[encoded data removed]",
      "text/plain": [
       "<Figure size 640x480 with 1 Axes>"
      ]
     },
     "metadata": {},
     "output_type": "display_data"
    },
    {
     "data": {
      "image/png": "[encoded data removed]",
      "text/plain": [
       "<Figure size 640x480 with 1 Axes>"
      ]
     },
     "metadata": {},
     "output_type": "display_data"
    }
   ],
   "source": [
    "import cv2\n",
    "import numpy as np\n",
    "import matplotlib.pyplot as plt\n",
    "from skimage.morphology import skeletonize\n",
    "# Load the image\n",
    "def get_letters(img, show_trace = False, single_letter = False):\n",
    "    # convert to grayscale\n",
    "    # img = cv2.resize(img, (0,0),fx=0.5, fy=0.5)\n",
    "    if(show_trace):\n",
    "        print(f'img shape: {img.shape}, max={img.max()}, min={img.min()},median={np.median(img)} and type {img.dtype}')\n",
    "        cf.show_images([img],['img'])\n",
    "    \n",
    "    h,w = img.shape\n",
    "    retSize = (50,50)\n",
    "    \n",
    "    tolerance = 0.07 * w \n",
    "    ret,thresh = cv2.threshold(img,127,255,cv2.THRESH_BINARY)\n",
    "    \n",
    "    if(single_letter):\n",
    "        return [cv2.resize(img.max() - img , retSize)] \n",
    "    \n",
    "    if(show_trace):\n",
    "        cf.show_images([thresh],['thresh'])\n",
    "    # Find the contours\n",
    "    contours,_ = cv2.findContours(thresh, cv2.RETR_LIST, cv2.CHAIN_APPROX_SIMPLE)\n",
    "    if(show_trace):\n",
    "        print('contours before area filtering')\n",
    "        for cnt in contours:\n",
    "            print(cv2.contourArea(cnt,True),end=', ')\n",
    "        print()\n",
    "    # only keep the contours that are black  and i needed to discard the small parts\n",
    "    contours = list(filter(lambda cnt: cv2.contourArea(cnt,True) >  (0  if(single_letter) else 10), contours))\n",
    "    if(show_trace):\n",
    "        print('contours after area filtering')\n",
    "        for cnt in contours:\n",
    "            print(cv2.contourArea(cnt,True),end=', ')\n",
    "        print()\n",
    "    # sort contours from left to right\n",
    "    contours = sorted(contours, key=lambda ctr: cv2.boundingRect(ctr)[0])\n",
    "    contours_list = [(x,y,w,h) for x,y,w,h in [cv2.boundingRect(c) for c in contours]]\n",
    "\n",
    "    # put masks on the image to get the each letter individually\n",
    "    masks = []\n",
    "    for cont in contours:\n",
    "        mask = np.zeros(img.shape, np.float32)\n",
    "        cv2.drawContours(mask, [cont], 0, (1,1,1),-1)\n",
    "        masks.append(mask)\n",
    "        \n",
    "    #sort contours from left to right\n",
    "    # contours_list = sorted(contours_list, key=lambda ctr: ctr[0])3\n",
    "\n",
    "\n",
    "    # merge list that are too close in x axis\n",
    "    \n",
    "    def union(a,b):\n",
    "        '''\n",
    "        union of two BoxRectangles \n",
    "        '''\n",
    "        x = min(a[0], b[0])\n",
    "        y = min(a[1], b[1])\n",
    "        w = max(a[0]+a[2], b[0]+b[2]) - x\n",
    "        h = max(a[1]+a[3], b[1]+b[3]) - y\n",
    "        return (x, y, w, h)\n",
    "\n",
    "    for ind,(x,y,w,h) in enumerate(contours_list):\n",
    "        prev_x = float('-inf') if ind == 0 else contours_list[ind-1][0]   \n",
    "        prev_h = float('-inf') if ind == 0 else contours_list[ind-1][3]   \n",
    "        if (x - prev_x < tolerance and abs(h - prev_h) < tolerance/2)  or (single_letter and ind != 0):\n",
    "            # merge contours \n",
    "            contours_list[ind] = union(contours_list[ind],contours_list[ind-1])\n",
    "            contours_list.pop(ind-1)\n",
    "            # merge masks of the letters\n",
    "            masks[ind] = masks[ind] + masks[ind-1]\n",
    "            masks.pop(ind-1)\n",
    "            ind -=1\n",
    "            \n",
    "    if(show_trace):\n",
    "        print('masks')\n",
    "        cf.show_images(masks)\n",
    "    # For each contour, find the bounding rectangle and draw it\n",
    "    ret_images = []\n",
    "    for ind,(x,y,w,h) in enumerate(contours_list):\n",
    "        new_img  = np.logical_and( ~img, masks[ind])[ 0 :  img.shape[0] ,x:x+w].astype(np.uint8)\n",
    "        ret_images.append(new_img)\n",
    "        if(show_trace):\n",
    "            cv2.rectangle(img,(x,y),(x+w,y+h),(0,255,0),1) #crop \n",
    "            # cv2.putText(img, str(ind), (x,y), cv2.FONT_ITALIC, 1, (0,0,255), 2, cv2.LINE_AA)\n",
    "    \n",
    "    \n",
    "    if(show_trace):\n",
    "        plt.imshow(img)\n",
    "        plt.show()\n",
    "        \n",
    " \n",
    "    for i in range(len(ret_images)):\n",
    "        if(ret_images[i].shape != (0,0)):\n",
    "            ret_images[i] = cv2.resize(ret_images[i], retSize)\n",
    "        \n",
    "    if(show_trace):\n",
    "        cf.show_images(ret_images)\n",
    "        \n",
    "    if(len(ret_images) == 0):\n",
    "        return [cv2.resize(img.max()-img, retSize)]\n",
    "    \n",
    "    return ret_images\n",
    "    \n",
    "\n",
    "# from skimage.morphology import skeletonize\n",
    "# img =  cv2.cvtColor(cv2.imread(\"test_images/5.png\"), cv2.COLOR_BGR2GRAY)\n",
    "\n",
    "# # apply skeletonization \n",
    "# # perform skeletonization\n",
    "# letters = get_letters(img,show_trace=True);\n",
    "# skeleton = skeletonize(letters[0])\n",
    "# cf.show_images([skeleton],['skeleton'])\n",
    "\n",
    "# letter = cv2.cvtColor(cv2.imread('./datasets/Img/img005-047.png'), cv2.COLOR_BGR2GRAY)\n",
    "# # draw histogram \n",
    "\n",
    "\n",
    "# cf.show_images(get_letters(letter,show_trace=True))\n",
    "\n",
    "img =  cv2.cvtColor(cv2.imread('./test_images/classification/+1.png'), cv2.COLOR_BGR2GRAY)\n",
    "letters = get_letters(img,show_trace=True);\n",
    "# skeleton = skeletonize(letters[0])\n",
    "# cf.show_images([skeleton],['skeleton'])"
   ]
  },
  {
   "cell_type": "code",
   "execution_count": 4,
   "metadata": {},
   "outputs": [],
   "source": [
    "# import os\n",
    "# from os import listdir\n",
    "\n",
    "# dataset = []\n",
    "# #load dataset\n",
    "# folder_dir = r\"./datasets/symbols/eval/plus val/\"\n",
    "# for image in os.listdir(folder_dir):\n",
    "#     dataset.append(cv2.cvtColor(cv2.imread(folder_dir+'/'+image), cv2.COLOR_BGR2GRAY))\n",
    "    \n",
    "    \n",
    "# # get the letters from the dataset\n",
    "# letters = []\n",
    "# for img in dataset:\n",
    "#     letters.append(get_letters(img,single_letter=True))\n",
    "\n",
    "# count = 0\n",
    "# # write the letters to the disk\n",
    "# for i in range(len(letters)):\n",
    "#     if(len(letters[i]) >1):\n",
    "#         count +=1\n",
    "#     for j in range(len(letters[i])):\n",
    "#         cv2.imwrite('./datasets/letters/'+str(i)+'-'+str(j)+'.png',(1- letters[i][j])*255)\n",
    "        "
   ]
  },
  {
   "cell_type": "code",
   "execution_count": 5,
   "metadata": {},
   "outputs": [],
   "source": [
    "\n",
    "\n",
    "import matplotlib.pyplot as plt\n",
    "from sklearn import datasets\n",
    "from sklearn import svm\n",
    "import pandas as pd # data processing, CSV file I/O (e.g. pd.read_csv)\n",
    "import cv2\n",
    "import numpy as np\n",
    "from sklearn import *\n",
    "from skimage.morphology import binary_erosion, binary_dilation, binary_closing,skeletonize, thin\n",
    "\n",
    "from sklearn.metrics import accuracy_score\n",
    "\n",
    "\n"
   ]
  },
  {
   "cell_type": "code",
   "execution_count": null,
   "metadata": {},
   "outputs": [],
   "source": []
  }
 ],
 "metadata": {
  "kernelspec": {
   "display_name": "Python 3.9.13 ('base')",
   "language": "python",
   "name": "python3"
  },
  "language_info": {
   "codemirror_mode": {
    "name": "ipython",
    "version": 3
   },
   "file_extension": ".py",
   "mimetype": "text/x-python",
   "name": "python",
   "nbconvert_exporter": "python",
   "pygments_lexer": "ipython3",
   "version": "3.9.13"
  },
  "orig_nbformat": 4,
  "vscode": {
   "interpreter": {
    "hash": "6aed28f9a78851c43da2b2382d0b32bbb8b6b4eda720ce0dee6d1ffb80b64718"
   }
  }
 },
 "nbformat": 4,
 "nbformat_minor": 2
}
