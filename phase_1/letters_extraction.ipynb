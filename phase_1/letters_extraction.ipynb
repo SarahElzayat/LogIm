{
 "cells": [
  {
   "cell_type": "code",
   "execution_count": 2,
   "metadata": {
    "pycharm": {
     "name": "#%%\n"
    }
   },
   "outputs": [],
   "source": [
    "import cv2\n",
    "import commonfunctions as cf\n",
    "import numpy as np\n",
    "import matplotlib.pyplot as plt\n",
    "from numba import njit,prange\n",
    "# import nbimporter\n",
    "# from count_rows import count_rows"
   ]
  },
  {
   "cell_type": "code",
   "execution_count": 48,
   "metadata": {
    "collapsed": false,
    "pycharm": {
     "name": "#%%\n"
    }
   },
   "outputs": [
    {
     "name": "stdout",
     "output_type": "stream",
     "text": [
      "img shape: (247, 321), max=255, min=0,median=255.0 and type uint8\n",
      "tolerance: 16.05\n"
     ]
    },
    {
     "data": {
      "image/png": "[encoded data removed]",
      "text/plain": [
       "<Figure size 640x480 with 1 Axes>"
      ]
     },
     "metadata": {},
     "output_type": "display_data"
    },
    {
     "data": {
      "image/png": "[encoded data removed]",
      "text/plain": [
       "<Figure size 640x480 with 1 Axes>"
      ]
     },
     "metadata": {},
     "output_type": "display_data"
    },
    {
     "name": "stdout",
     "output_type": "stream",
     "text": [
      "contours before area filtering\n",
      "6.0, 10.5, 31.0, 52.0, 2.0, -1064.0, 2345.0, 47.5, 36.0, 36.0, -78720.0, \n",
      "average_area 404.8888888888889\n",
      "max_width 49\n",
      "max_height 62\n",
      "contours after area filtering\n",
      "3038, \n",
      "masks\n"
     ]
    },
    {
     "data": {
      "image/png": "[encoded data removed]",
      "text/plain": [
       "<Figure size 640x480 with 1 Axes>"
      ]
     },
     "metadata": {},
     "output_type": "display_data"
    },
    {
     "name": "stdout",
     "output_type": "stream",
     "text": [
      "contours after merging\n"
     ]
    },
    {
     "data": {
      "image/png": "[encoded data removed]",
      "text/plain": [
       "<Figure size 640x480 with 1 Axes>"
      ]
     },
     "metadata": {},
     "output_type": "display_data"
    }
   ],
   "source": [
    "import cv2\n",
    "import numpy as np\n",
    "import matplotlib.pyplot as plt\n",
    "from skimage.morphology import skeletonize\n",
    "# Load the image\n",
    "def get_letters(img, verbose = False,single_letter = False):\n",
    "    # convert to grayscale\n",
    "    # img = cv2.resize(img, (0,0),fx=0.5, fy=0.5)\n",
    "    h,w = img.shape\n",
    "    retSize = (64,64)\n",
    "    \n",
    "    tolerance = 0.05 * w \n",
    "    if verbose:\n",
    "        print(f'img shape: {img.shape}, max={img.max()}, min={img.min()},median={np.median(img)} and type {img.dtype}')\n",
    "        print(f'tolerance: {tolerance}')\n",
    "        \n",
    "        cf.show_images([img],['img'])\n",
    "    \n",
    "    ret,thresh = cv2.threshold(img,127,255,cv2.THRESH_BINARY)\n",
    "    \n",
    "    if verbose:\n",
    "        cf.show_images([thresh],['thresh'])\n",
    "    # Find the contours\n",
    "    contours,_ = cv2.findContours(thresh, cv2.RETR_LIST, cv2.CHAIN_APPROX_SIMPLE)\n",
    "    if verbose:\n",
    "        print('contours before area filtering')\n",
    "        for cnt in contours:\n",
    "            print(cv2.contourArea(cnt,True),end=', ')\n",
    "        print()\n",
    "    \n",
    "    average_area = 0.0   \n",
    "    max_width  = 0.0  \n",
    "    max_height  = 0.0 \n",
    "    average_width  = 0.0  \n",
    "    average_height  = 0.0 \n",
    "    \n",
    "    # only keep the contours that are black  and i needed to discard the small parts\n",
    "    contours = list(filter(lambda cnt: cv2.contourArea(cnt,True) > 0, contours))\n",
    "    contours_list = [[box,c] for box,c in [(cv2.boundingRect(c),c) for c in contours]]\n",
    "    contours_list = sorted(contours_list, key=lambda ctr:ctr[0])\n",
    "    \n",
    "    if len(contours_list) != 0:\n",
    "        average_area   = sum([cnt[0][2]*cnt[0][3] for cnt in contours_list]) / len(contours_list)\n",
    "        max_width  = max( [ cnt[0][2] for cnt in contours_list]) \n",
    "        max_height = max([ cnt[0][3] for cnt in contours_list])\n",
    "        average_width = sum([cnt[0][2] for cnt in contours_list]) / len(contours_list)\n",
    "        average_height = sum([cnt[0][3] for cnt in contours_list]) / len(contours_list)\n",
    "    \n",
    "    if(verbose):\n",
    "        print('average_area',average_area)\n",
    "        print('max_width',max_width)\n",
    "        print('max_height',max_height)\n",
    "    # only keep the contours that are black  and i needed to discard the small parts\n",
    "    # x,y,w,h \n",
    "    \n",
    "    def filter_contours(cnt):\n",
    "        (x,y,w,h),q = cnt\n",
    "        # filter contours that are too small\n",
    "        return  h*w >= average_area if single_letter else h*w > average_area * 0.2 and  w > max_width * 0.25 \n",
    "    contours_list = list(filter(filter_contours, contours_list))\n",
    "    \n",
    "    if verbose:\n",
    "        print('contours after area filtering')\n",
    "        for cnt in contours_list:\n",
    "            print(cnt[0][2] * cnt[0][3],end=', ')\n",
    "        print()\n",
    "    # sort contours from left to right\n",
    "\n",
    "    # max_height =sorted(contours_list, key=lambda ctr: ctr[3])[-1][3]\n",
    "    # max_width =sorted(contours_list, key=lambda ctr: ctr[2])[-1][2]\n",
    "    \n",
    "    # # print(\"maxxxxxxxx\",max_height)\n",
    "    # height_margin = max_height // 10\n",
    "    # width_margin = max_width // 15\n",
    "    \n",
    "    # put masks on the image to get the each letter individually\n",
    "    masks = []\n",
    "    for cont in contours_list:\n",
    "        mask = np.zeros(img.shape, np.float32)\n",
    "        cv2.drawContours(mask, [cont[1]], 0, (1,1,1),-1)\n",
    "        masks.append(mask)\n",
    "        \n",
    "    #sort contours from left to right\n",
    "    # contours_list = sorted(contours_list, key=lambda ctr: ctr[0])3\n",
    "\n",
    "\n",
    "    # merge list that are too close in x axis\n",
    "    \n",
    "    def union(a,b):\n",
    "        '''\n",
    "        union of two BoxRectangles \n",
    "        '''\n",
    "        x = min(a[0], b[0])\n",
    "        y = min(a[1], b[1])\n",
    "        w = max(a[0]+a[2], b[0]+b[2]) - x\n",
    "        h = max(a[1]+a[3], b[1]+b[3]) - y\n",
    "        return (x, y, w, h)\n",
    "\n",
    "    for ind,(box,_) in enumerate(contours_list):\n",
    "        x,y,w,h = box\n",
    "        prev_x = float('-inf') if ind == 0 else contours_list[ind-1][0][0]   \n",
    "        prev_h = float('-inf') if ind == 0 else contours_list[ind-1][0][3]   \n",
    "        if (x - prev_x < max_width *0.2 and abs(h - prev_h) < max_height * 0.2):\n",
    "            # merge contours \n",
    "            contours_list[ind] = (union(contours_list[ind][0],contours_list[ind-1][0]),contours_list[ind][1])\n",
    "            contours_list.pop(ind-1)\n",
    "            # merge masks of the letters\n",
    "            masks[ind] = masks[ind] + masks[ind-1]\n",
    "            masks.pop(ind-1)\n",
    "            ind -=1\n",
    "            \n",
    "    if verbose:\n",
    "        print('masks')\n",
    "        cf.show_images(masks)\n",
    "        \n",
    "        \n",
    "        \n",
    "    # For each contour, find the bounding rectangle and draw it\n",
    "    ret_images = []\n",
    "    for ind,(box,_) in enumerate(contours_list):\n",
    "        # print(box)\n",
    "        x,y,w,h = tuple(box)\n",
    "        if(h>max_height*0.2 ):\n",
    "    \n",
    "            new_img  = np.logical_and( ~img, masks[ind])[y:y+h, x:x+w].astype(np.uint8)\n",
    "            pad_h = int(h * 0.02)\n",
    "            pad_w = int(w * 0.2)\n",
    "            if h > w :\n",
    "                pad_w = (h-w)//2\n",
    "            else :\n",
    "                pad_h = (w-h)//2\n",
    "            new_img = np.pad(new_img, ((pad_h,pad_h),(pad_w,pad_w)), 'constant')\n",
    "            ret_images.append(new_img)\n",
    "            if verbose:\n",
    "                cv2.rectangle(img,(x,y),(x+w,y+h),(0,255,0),1) #crop \n",
    "                # cv2.putText(img, str(ind), (x,y), cv2.FONT_ITALIC, 1, (0,0,255), 2, cv2.LINE_AA)\n",
    "    \n",
    "    \n",
    "    if verbose:\n",
    "        print('contours after merging')\n",
    "        plt.show()\n",
    "        \n",
    " \n",
    "    for i in range(len(ret_images)):\n",
    "        if(ret_images[i].shape != (0,0)):\n",
    "            ret_images[i] = cv2.resize(ret_images[i], retSize)\n",
    "            ret_images[i] = cv2.morphologyEx(ret_images[i], cv2.MORPH_DILATE, cv2.getStructuringElement(shape= cv2.MORPH_ELLIPSE, ksize= (5,5)))#, iterations=1)\n",
    "        \n",
    "    if verbose:\n",
    "        cf.show_images(ret_images)\n",
    "        \n",
    "    if(len(ret_images) == 0):\n",
    "        return [cv2.resize(img.max()-img, retSize)]\n",
    "    \n",
    "    \n",
    "    \n",
    "    return ret_images\n",
    "    \n",
    "\n",
    "\n",
    "# from skimage.morphology import skeletonize\n",
    "img =  cv2.cvtColor(cv2.imread(\"./test_images/zero_pic.png\"), cv2.COLOR_BGR2GRAY)\n",
    "\n",
    "# # # apply skeletonization \n",
    "# # # perform skeletonization\n",
    "letters = get_letters(img,verbose=True,single_letter=True)\n",
    "# # skeleton = skeletonize(letters[0])\n",
    "# cf.show_images(letters)\n",
    "\n",
    "# letter = cv2.cvtColor(cv2.imread('./datasets/Img/img005-047.png'), cv2.COLOR_BGR2GRAY)\n",
    "# # draw histogram \n",
    "\n",
    "\n",
    "# cf.show_images(get_letters(letter,verbose=True))\n",
    "\n",
    "# img =  cv2.cvtColor(cv2.imread(r\"D:\\academic_material\\third_year\\imageProcessing\\repos\\LogIm\\phase_1\\symbols\\0\\0_517.jpg\"), cv2.COLOR_BGR2GRAY)\n",
    "# letters = get_letters(img,verbose=True, single_letter=True)\n",
    "# cf.show_images(letters, )\n",
    "# # skeleton = skeletonize(letters[0])\n",
    "# # cf.show_images([skeleton],['skeleton'])"
   ]
  },
  {
   "cell_type": "code",
   "execution_count": 4,
   "metadata": {
    "collapsed": false,
    "pycharm": {
     "name": "#%%\n"
    }
   },
   "outputs": [],
   "source": [
    "# import os\n",
    "# from os import listdir\n",
    "\n",
    "# dataset = []\n",
    "# #load dataset\n",
    "# folder_dir = r\"./datasets/symbols/eval/plus val/\"\n",
    "# for image in os.listdir(folder_dir):\n",
    "#     dataset.append(cv2.cvtColor(cv2.imread(folder_dir+'/'+image), cv2.COLOR_BGR2GRAY))\n",
    "    \n",
    "    \n",
    "# # get the letters from the dataset\n",
    "# letters = []\n",
    "# for img in dataset:\n",
    "#     letters.append(get_letters(img,single_letter=True))\n",
    "\n",
    "# count = 0\n",
    "# # write the letters to the disk\n",
    "# for i in range(len(letters)):\n",
    "#     if(len(letters[i]) >1):\n",
    "#         count +=1\n",
    "#     for j in range(len(letters[i])):\n",
    "#         cv2.imwrite('./datasets/letters/'+str(i)+'-'+str(j)+'.png',(1- letters[i][j])*255)\n",
    "        "
   ]
  },
  {
   "cell_type": "code",
   "execution_count": 5,
   "metadata": {
    "collapsed": false,
    "pycharm": {
     "name": "#%%\n"
    }
   },
   "outputs": [],
   "source": [
    "\n",
    "\n",
    "import matplotlib.pyplot as plt\n",
    "from sklearn import datasets\n",
    "from sklearn import svm\n",
    "import pandas as pd # data processing, CSV file I/O (e.g. pd.read_csv)\n",
    "import cv2\n",
    "import numpy as np\n",
    "from sklearn import *\n",
    "from skimage.morphology import binary_erosion, binary_dilation, binary_closing,skeletonize, thin\n",
    "\n",
    "from sklearn.metrics import accuracy_score\n",
    "\n",
    "\n"
   ]
  },
  {
   "cell_type": "code",
   "execution_count": 6,
   "metadata": {
    "collapsed": false,
    "pycharm": {
     "name": "#%%\n"
    }
   },
   "outputs": [],
   "source": [
    "# #importing required libraries\n",
    "# from skimage.io import imread, imshow\n",
    "# from skimage.transform import resize\n",
    "# from skimage.feature import hog\n",
    "# from skimage import exposure\n",
    "# import matplotlib.pyplot as plt\n",
    "# %matplotlib inline\n",
    "\n",
    "\n",
    "# #reading the image\n",
    "# # img = imread(r\"D:\\academic_material\\third_year\\imageProcessing\\repos\\LogIm\\phase_1\\symbols\\!\\!_7928.jpg\")\n",
    "# # imshow(img)\n",
    "# # print(img.shape)\n",
    "\n",
    "# def hog_func(img):\n",
    "#     #resizing image \n",
    "#     resized_img = resize(img, (128,64)) \n",
    "#     # imshow(resized_img) \n",
    "#     # print(resized_img.shape)\n",
    "\n",
    "#     #creating hog features \n",
    "#     fd, hog_image = hog(resized_img, orientations=9, pixels_per_cell=(8, 8), \n",
    "#                         cells_per_block=(2, 2), visualize=True)\n",
    "    \n",
    "#     return fd\n",
    "\n"
   ]
  }
 ],
 "metadata": {
  "kernelspec": {
   "display_name": "base",
   "language": "python",
   "name": "python3"
  },
  "language_info": {
   "codemirror_mode": {
    "name": "ipython",
    "version": 3
   },
   "file_extension": ".py",
   "mimetype": "text/x-python",
   "name": "python",
   "nbconvert_exporter": "python",
   "pygments_lexer": "ipython3",
   "version": "3.9.12"
  },
  "orig_nbformat": 4,
  "vscode": {
   "interpreter": {
    "hash": "52d90d3cc821dd0beedd6e719dbdecc722c226b9d90ed1b663c34e1877f1142e"
   }
  }
 },
 "nbformat": 4,
 "nbformat_minor": 2
}
