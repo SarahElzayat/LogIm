{
 "cells": [
  {
   "cell_type": "code",
   "execution_count": 2,
   "metadata": {},
   "outputs": [],
   "source": [
    "import cv2\n",
    "import numpy as np\n",
    "import numpy as np\n",
    "import argparse\n",
    "import cv2\n",
    "from commonfunctions import *\n",
    "import math    \n",
    "\n",
    "from utlis import *\n",
    "import functools"
   ]
  },
  {
   "cell_type": "code",
   "execution_count": 3,
   "metadata": {},
   "outputs": [],
   "source": [
    "%%capture\n",
    "%run  preprocessing.ipynb"
   ]
  },
  {
   "cell_type": "code",
   "execution_count": 4,
   "metadata": {},
   "outputs": [],
   "source": [
    "def count_rows(arr, showTrace):\n",
    "\n",
    "    def sort_horizantal_lines(br_a, br_b):\n",
    "        return br_a[1] - br_b[1]\n",
    "\n",
    "    sorted_lines = sorted(arr, key=functools.cmp_to_key(sort_horizantal_lines))\n",
    "\n",
    "    def filter_sorted_lines(array):\n",
    "        length = len(array)-1\n",
    "        i=0\n",
    "        while i<length:\n",
    "            if abs(array[i][1]-array[i+1][1])<= 20:\n",
    "                array.pop(i)\n",
    "                length = length-1\n",
    "                i=i-1\n",
    "            i=i+1        \n",
    "\n",
    "    result = filter_sorted_lines(sorted_lines)\n",
    "\n",
    "    if(showTrace):\n",
    "        print(\"count rows\", len(sorted_lines))\n",
    "\n",
    "    return len(sorted_lines)\n"
   ]
  },
  {
   "cell_type": "code",
   "execution_count": 5,
   "metadata": {},
   "outputs": [],
   "source": [
    "def box_extraction(image, showTrace):\n",
    "    img = image.copy()\n",
    "    (thresh, img_bin) = cv2.threshold(img, 128, 255, cv2.THRESH_BINARY | cv2.THRESH_OTSU)  # Thresholding the image\n",
    "    img_bin = 255-img_bin  \n",
    "    kernel_length = np.array(img).shape[1]//40\n",
    "    \n",
    "    verticle_kernel = cv2.getStructuringElement(cv2.MORPH_RECT, (1, kernel_length))\n",
    "    hori_kernel = cv2.getStructuringElement(cv2.MORPH_RECT, (kernel_length, 1))\n",
    "\n",
    "    kernel = cv2.getStructuringElement(cv2.MORPH_RECT, (3, 3))\n",
    "    \n",
    "    img_temp1 = cv2.erode(img_bin, verticle_kernel, iterations=3)\n",
    "    verticle_lines_img = cv2.dilate(img_temp1, verticle_kernel, iterations=3)\n",
    "   \n",
    "    img_temp2 = cv2.erode(img_bin, hori_kernel, iterations=3)\n",
    "    horizontal_lines_img = cv2.dilate(img_temp2, hori_kernel, iterations=3)\n",
    "\n",
    "    contours, hierarchy = cv2.findContours(horizontal_lines_img, cv2.RETR_LIST, cv2.CHAIN_APPROX_SIMPLE)\n",
    "\n",
    "    # num_rows=3 # comment this line when detect number of rows\n",
    "\n",
    "    # Weighting parameters, this will decide the quantity of an image to be added to make a new image.\n",
    "    alpha = 0.5\n",
    "    beta = 1.0 - alpha\n",
    "    # This function helps to add two image with specific weight parameter to get a third image as summation of two image.\n",
    "    img_final_bin = cv2.addWeighted(verticle_lines_img, alpha, horizontal_lines_img, beta, 0.0)\n",
    "    \n",
    "\n",
    "    img_final_bin = cv2.erode(~img_final_bin, kernel, iterations=2)\n",
    "    (thresh, img_final_bin) = cv2.threshold(img_final_bin, 128, 255, cv2.THRESH_BINARY_INV | cv2.THRESH_OTSU)\n",
    "    \n",
    "    # to get the countours clear of the image\n",
    "    kernel_two = np.ones((7, 7))\n",
    "    dilatedImg = cv2.dilate(img_final_bin, kernel_two, iterations=7)\n",
    "    img_final_bin = cv2.erode(dilatedImg, kernel_two, iterations=2)\n",
    "\n",
    "    cv2.imwrite(\"img_final_bin.jpg\",img_final_bin)\n",
    "\n",
    "    # Find contours for image, which will detect all the boxes\n",
    "    contours, hierarchy = cv2.findContours(img_final_bin, cv2.RETR_LIST, cv2.CHAIN_APPROX_SIMPLE)\n",
    "    contours = list(filter(lambda cnt: cv2.contourArea(cnt,True) > 0, contours))\n",
    "    print(\"LEN\" , len(contours))\n",
    "    \n",
    "    boundingBox_arr = []\n",
    "\n",
    "    for c in contours:\n",
    "        # Returns the location and width,height for every contour\n",
    "        x, y, w, h = cv2.boundingRect(c)\n",
    "        # if w < img_final_bin.shape[1]//30 or h < img_final_bin.shape[0]//30 or w > img_final_bin.shape[1]//3 or h > img_final_bin.shape[0]//3:\n",
    "        #     continue\n",
    "        boundingBox_arr.append(cv2.boundingRect(c))\n",
    "\n",
    "\n",
    "    def contour_sort(br_a, br_b):\n",
    "\n",
    "        if abs(br_a[1] - br_b[1]) <= 15:\n",
    "            return br_a[0] - br_b[0]\n",
    "\n",
    "        return br_a[1] - br_b[1]\n",
    "\n",
    "\n",
    "    boundingBox_arr = sorted(boundingBox_arr, key=functools.cmp_to_key(contour_sort))\n",
    "\n",
    "    num_rows=count_rows(boundingBox_arr, showTrace) \n",
    "\n",
    "    num_cols = int(len(boundingBox_arr)/num_rows)\n",
    "\n",
    "    # if(showTrace):\n",
    "    print(len(boundingBox_arr))\n",
    "    print(num_cols,num_rows)\n",
    "    \n",
    "    arr = []\n",
    "    for c in boundingBox_arr:\n",
    "        arr.append(img[c[1]:c[1]+c[3], c[0]:c[0]+c[2]])\n",
    "        if(showTrace):\n",
    "            new_img = img[c[1]:c[1]+c[3], c[0]:c[0]+c[2]]\n",
    "            show_images([new_img])\n",
    "            print(new_img.shape[1],img_final_bin.shape[1])\n",
    "            print(new_img.shape[0],img_final_bin.shape[0])\n",
    "\n",
    "\n",
    "    # arr = np.asarray(arr, dtype=\"object\").reshape((num_rows ,num_cols ))\n",
    "\n",
    "    # this shows the first 4 lines of the table who have 3 inputs\n",
    "    # if(showTrace): \n",
    "    #     show_images([arr[0][0],arr[0][1],arr[0][2],arr[0][3]])\n",
    "    #     show_images([arr[1][0],arr[1][1],arr[1][2],arr[1][3]])\n",
    "    #     show_images([arr[2][0],arr[2][1],arr[2][2],arr[2][3]])\n",
    "    #     show_images([arr[3][0],arr[3][1],arr[3][2],arr[3][3]])\n",
    "    \n",
    "    return arr, num_cols, num_rows\n"
   ]
  },
  {
   "cell_type": "code",
   "execution_count": null,
   "metadata": {},
   "outputs": [],
   "source": []
  },
  {
   "cell_type": "code",
   "execution_count": 7,
   "metadata": {},
   "outputs": [
    {
     "ename": "TypeError",
     "evalue": "box_extraction() takes 2 positional arguments but 3 were given",
     "output_type": "error",
     "traceback": [
      "\u001b[1;31m---------------------------------------------------------------------------\u001b[0m",
      "\u001b[1;31mTypeError\u001b[0m                                 Traceback (most recent call last)",
      "\u001b[1;32m~\\AppData\\Local\\Temp\\ipykernel_32912\\1492617062.py\u001b[0m in \u001b[0;36m<module>\u001b[1;34m\u001b[0m\n\u001b[0;32m      1\u001b[0m \u001b[0mimg\u001b[0m \u001b[1;33m=\u001b[0m \u001b[0mcv2\u001b[0m\u001b[1;33m.\u001b[0m\u001b[0mimread\u001b[0m\u001b[1;33m(\u001b[0m\u001b[1;34m\"test_images/table8.png\"\u001b[0m\u001b[1;33m)\u001b[0m\u001b[1;33m\u001b[0m\u001b[1;33m\u001b[0m\u001b[0m\n\u001b[1;32m----> 2\u001b[1;33m \u001b[0mx\u001b[0m \u001b[1;33m=\u001b[0m \u001b[0mbox_extraction\u001b[0m\u001b[1;33m(\u001b[0m\u001b[0mimg\u001b[0m\u001b[1;33m,\u001b[0m \u001b[1;32mTrue\u001b[0m\u001b[1;33m,\u001b[0m \u001b[1;32mTrue\u001b[0m\u001b[1;33m)\u001b[0m\u001b[1;33m\u001b[0m\u001b[1;33m\u001b[0m\u001b[0m\n\u001b[0m",
      "\u001b[1;31mTypeError\u001b[0m: box_extraction() takes 2 positional arguments but 3 were given"
     ]
    }
   ],
   "source": [
    "# img = cv2.imread(\"test_images/table8.png\")\n",
    "# x = cells_extraction(img, True, True)"
   ]
  }
 ],
 "metadata": {
  "kernelspec": {
   "display_name": "base",
   "language": "python",
   "name": "python3"
  },
  "language_info": {
   "codemirror_mode": {
    "name": "ipython",
    "version": 3
   },
   "file_extension": ".py",
   "mimetype": "text/x-python",
   "name": "python",
   "nbconvert_exporter": "python",
   "pygments_lexer": "ipython3",
   "version": "3.9.13"
  },
  "orig_nbformat": 4,
  "vscode": {
   "interpreter": {
    "hash": "259b4fef693b2d75168774e41cff93a193031b347008aedd7a32d46d0530600c"
   }
  }
 },
 "nbformat": 4,
 "nbformat_minor": 2
}
