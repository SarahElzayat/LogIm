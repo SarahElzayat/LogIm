{
    "cells": [
        {
            "cell_type": "code",
            "execution_count": 2,
            "metadata": {},
            "outputs": [],
            "source": [
                "%%capture\n",
                "%run final_chars_classification.ipynb"
            ]
        },
        {
            "cell_type": "code",
            "execution_count": 3,
            "metadata": {
                "notebookRunGroups": {
                    "groupValue": ""
                }
            },
            "outputs": [],
            "source": [
                "import joblib\n",
                "import cv2\n",
                "import numpy as np\n",
                "from commonfunctions import * \n",
                "\n"
            ]
        },
        {
            "cell_type": "code",
            "execution_count": 1,
            "metadata": {},
            "outputs": [],
            "source": [
                "\n",
                "def get_table(results):\n",
                "    # results = predict_image(img, verbose= False)\n",
                "    results[1] = '=' # the second element is always the equal sign\n",
                "    # print(results)\n",
                "    # s = \"\".join(results)\n",
                "    # splited_first , splited_second = s.split('=')\n",
                "    splited_second = results[2:]\n",
                "    all_valid_literals = ['A','B','D', 'C', 'F', 'E']\n",
                "    def delete_invalid(variable):\n",
                "        # all_valid_literals = ['A','B', 'C', 'F']\n",
                "        # all_valid_chars.remove(splited_first.upper().strip())\n",
                "        return variable in all_valid_literals\n",
                "        \n",
                "\n",
                "    final_str = \"\"\n",
                "    all_valid_chars = all_valid_literals \n",
                "    for ind, char in enumerate(splited_second):\n",
                "        if(char == '+'):\n",
                "            char = 'or'\n",
                "            \n",
                "        let = lambda x: (x in all_valid_chars)\n",
                "        # the prev was a literal and the current is a literal or ( \n",
                "        # or the prev was ) and the current is a literal or (\n",
                "        # \n",
                "        if( ind != 0 and\n",
                "            (\n",
                "                (let(splited_second[ind-1]) and (let(char) or char == '(' or char == '~')) or \n",
                "                (splited_second[ind-1] == ')' and (let(char) or char == '(' or char == '~')) \n",
                "            )\n",
                "        ):\n",
                "            final_str += \"and \"\n",
                "        prev_was_literal = char in all_valid_literals\n",
                "        final_str += (char + \" \")\n",
                "\n",
                "    print(final_str)\n",
                "\n",
                "    from  ttg import Truths\n",
                "    filters_chars = list(set(filter(delete_invalid, splited_second)))\n",
                "    try:\n",
                "        table = Truths( filters_chars , [final_str]).as_pandas()\n",
                "        return table.values,table.columns\n",
                "    except:\n",
                "        return None\n",
                "\n",
                "\n",
                "# # img =  cv2.imread(r\".\\test_images\\classification\\test4.png\")\n",
                "# img =  cv2.imread(r\".\\test_images\\classification\\imp.png\")\n",
                "# print(get_table(img))"
            ]
        }
    ],
    "metadata": {
        "kernelspec": {
            "display_name": "base",
            "language": "python",
            "name": "python3"
        },
        "language_info": {
            "codemirror_mode": {
                "name": "ipython",
                "version": 3
            },
            "file_extension": ".py",
            "mimetype": "text/x-python",
            "name": "python",
            "nbconvert_exporter": "python",
            "pygments_lexer": "ipython3",
            "version": "3.9.12 (main, Apr  4 2022, 05:22:27) [MSC v.1916 64 bit (AMD64)]"
        },
        "orig_nbformat": 4,
        "vscode": {
            "interpreter": {
                "hash": "513892303a9398ba70ad4a62253ed19c1d7e2335957cb3e866a635ce3305c602"
            }
        }
    },
    "nbformat": 4,
    "nbformat_minor": 2
}
