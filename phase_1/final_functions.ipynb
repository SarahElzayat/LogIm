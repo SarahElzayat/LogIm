{
    "cells": [
        {
            "cell_type": "code",
            "execution_count": 13,
            "metadata": {},
            "outputs": [],
            "source": [
                "%%capture\n",
                "%run final_chars_classification.ipynb"
            ]
        },
        {
            "cell_type": "code",
            "execution_count": 14,
            "metadata": {},
            "outputs": [],
            "source": [
                "# from collections import defaultdict\n",
                "# import os\n",
                "# d = defaultdict(int)\n",
                "# co = 0\n",
                "# directory = './symbols/'\n",
                "# for x in sorted(os.listdir(directory)):\n",
                "#     if not x.startswith('.') and not d[x]:\n",
                "#         d[x] = co\n",
                "#         co+=1\n",
                "# d"
            ]
        },
        {
            "cell_type": "code",
            "execution_count": 15,
            "metadata": {
                "notebookRunGroups": {
                    "groupValue": ""
                }
            },
            "outputs": [],
            "source": [
                "import joblib\n",
                "import cv2\n",
                "import numpy as np\n",
                "from commonfunctions import * \n",
                "# from ipynb.fs.full.letters_extraction import *\n",
                "# from ipynb.fs.full.final_chars_classification import *\n",
                "# save the model to disk\n",
                "filename = './saved_models/finalized_model.sav'\n",
                "model = joblib.load(filename)\n",
                "# winSize = (32,32)\n",
                "winSize = (16,16)\n",
                "blockSize = (8,8)\n",
                "blockStride = (8,8)\n",
                "cellSize = (8,8)\n",
                "nbins = 20\n",
                "hog = cv2.HOGDescriptor(winSize, blockSize, blockStride, cellSize, nbins)\n",
                "\n",
                "def predict_image(image, verbose= False):\n",
                "    \"\"\"\n",
                "    This function takes in an image and returns the predicted letters\n",
                "    in general, it takes in an image and returns a list of letters as Chars\n",
                "    \"\"\"\n",
                "    filename = './saved_models/finalized_model.sav'\n",
                "    model = joblib.load(filename)\n",
                "    if(model == None):\n",
                "        raise Exception(\"Model not found\")\n",
                "    \n",
                "    \n",
                "    letters_image = image\n",
                "    try:\n",
                "        letters_image= cv2.cvtColor(image, cv2.COLOR_BGR2GRAY)\n",
                "    except:\n",
                "        pass\n",
                "    letters_res = np.array(get_letters(letters_image, single_letter=False, verbose= False))\n",
                "    if verbose:\n",
                "        show_images([letters_image])\n",
                "        show_images(letters_res)\n",
                "    # cf.show_images([letters_res[0], get_letters(letters, single_letter=False)[0]])\n",
                "    # letters_res = letters_res.reshape(len(letters_res), -1)\n",
                "    letters_res = np.array([hog.compute(image) for image in letters_res])\n",
                "    results = classify(letters_res)\n",
                "    # print(results)\n",
                "    \n",
                "    return results\n",
                "\n"
            ]
        },
        {
            "cell_type": "code",
            "execution_count": 16,
            "metadata": {},
            "outputs": [
                {
                    "name": "stdout",
                    "output_type": "stream",
                    "text": [
                        "( A or B ) and ( C or A ) \n",
                        "+-----+-----+-----+------------------------------+\n",
                        "|  A  |  C  |  B  |  ( A or B ) and ( C or A )   |\n",
                        "|-----+-----+-----+------------------------------|\n",
                        "|  1  |  1  |  1  |              1               |\n",
                        "|  1  |  1  |  0  |              1               |\n",
                        "|  1  |  0  |  1  |              1               |\n",
                        "|  1  |  0  |  0  |              1               |\n",
                        "|  0  |  1  |  1  |              1               |\n",
                        "|  0  |  1  |  0  |              0               |\n",
                        "|  0  |  0  |  1  |              0               |\n",
                        "|  0  |  0  |  0  |              0               |\n",
                        "+-----+-----+-----+------------------------------+\n"
                    ]
                }
            ],
            "source": [
                "\n",
                "def get_table(img):\n",
                "    results = predict_image(img, verbose= False)\n",
                "    results[1] = '=' # the second element is always the equal sign\n",
                "    s = \"\".join(results)\n",
                "    splited_first , splited_second = s.split('=')\n",
                "\n",
                "    all_valid_literals = ['A','B', 'C', 'F']\n",
                "    def delete_invalid(variable):\n",
                "        # all_valid_literals = ['A','B', 'C', 'F']\n",
                "        # all_valid_chars.remove(splited_first.upper().strip())\n",
                "        return variable in all_valid_literals\n",
                "        \n",
                "\n",
                "    final_str = \"\"\n",
                "    all_valid_chars = all_valid_literals \n",
                "    for ind, char in enumerate(splited_second):\n",
                "        if(char == '+'):\n",
                "            char = 'or'\n",
                "            \n",
                "        let = lambda x: (x in all_valid_chars)\n",
                "        \n",
                "        # the prev was a literal and the current is a literal or ( \n",
                "        # or the prev was ) and the current is a literal or (\n",
                "        # \n",
                "        if( ind != 0 and\n",
                "            (\n",
                "                (let(splited_second[ind-1]) and (let(char) or char == '(')) or \n",
                "                (splited_second[ind-1] == ')' and (let(char) or char == '(') )\n",
                "            )\n",
                "        ):\n",
                "            final_str += \"and \"\n",
                "        prev_was_literal = char in all_valid_literals\n",
                "        final_str += (char + \" \")\n",
                "\n",
                "    print(final_str)\n",
                "\n",
                "    from  ttg import Truths\n",
                "    filters_chars = list(set(filter(delete_invalid, splited_second)))\n",
                "    try:\n",
                "        table = Truths( filters_chars , [final_str])\n",
                "        return table\n",
                "    except:\n",
                "        return None\n",
                "\n",
                "\n",
                "img =  cv2.imread(r\".\\test_images\\classification\\test4.png\")\n",
                "img =  cv2.imread(r\".\\test_images\\classification\\brackets.png\")\n",
                "print(get_table(img))"
            ]
        }
    ],
    "metadata": {
        "kernelspec": {
            "display_name": "base",
            "language": "python",
            "name": "python3"
        },
        "language_info": {
            "codemirror_mode": {
                "name": "ipython",
                "version": 3
            },
            "file_extension": ".py",
            "mimetype": "text/x-python",
            "name": "python",
            "nbconvert_exporter": "python",
            "pygments_lexer": "ipython3",
            "version": "3.9.13 (main, Aug 25 2022, 23:51:50) [MSC v.1916 64 bit (AMD64)]"
        },
        "orig_nbformat": 4,
        "vscode": {
            "interpreter": {
                "hash": "6aed28f9a78851c43da2b2382d0b32bbb8b6b4eda720ce0dee6d1ffb80b64718"
            }
        }
    },
    "nbformat": 4,
    "nbformat_minor": 2
}
