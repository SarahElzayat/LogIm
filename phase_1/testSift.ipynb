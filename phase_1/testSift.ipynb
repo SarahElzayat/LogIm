{
 "cells": [
  {
   "cell_type": "code",
   "execution_count": 20,
   "metadata": {},
   "outputs": [
    {
     "data": {
      "text/plain": [
       "<matplotlib.image.AxesImage at 0x1a0d0b76370>"
      ]
     },
     "execution_count": 20,
     "metadata": {},
     "output_type": "execute_result"
    },
    {
     "data": {
      "image/png": "[encoded data removed]",
      "text/plain": [
       "<Figure size 640x480 with 1 Axes>"
      ]
     },
     "metadata": {},
     "output_type": "display_data"
    }
   ],
   "source": [
    "import cv2 \n",
    "import matplotlib.pyplot as plt\n",
    "%matplotlib inline\n",
    "\n",
    "#reading image\n",
    "img1 = cv2.imread(r'D:\\academic_material\\third_year\\imageProcessing\\repos\\LogIm\\phase_1\\test_images\\classification\\+1.png')  \n",
    "gray1 = cv2.cvtColor(img1, cv2.COLOR_BGR2GRAY)\n",
    "\n",
    "#keypoints\n",
    "sift = cv2.SIFT_create(nfeatures=10)\n",
    "keypoints_1, descriptors_1 = sift.detectAndCompute(img1,None)\n",
    "img_1 = cv2.drawKeypoints(gray1,keypoints_1,img1)\n",
    "plt.imshow(img_1)"
   ]
  },
  {
   "cell_type": "code",
   "execution_count": 28,
   "metadata": {},
   "outputs": [
    {
     "name": "stdout",
     "output_type": "stream",
     "text": [
      "(30394980,)\n"
     ]
    }
   ],
   "source": [
    "# Create HOG Descriptor object\n",
    "hog = cv2.HOGDescriptor()\n",
    "\n",
    "img1 = cv2.imread(r'D:\\academic_material\\third_year\\imageProcessing\\repos\\LogIm\\phase_1\\test_images\\classification\\+1.png')  \n",
    "\n",
    "# Compute HOG descriptor\n",
    "h = hog.compute(img1)\n",
    "print(h.shape)"
   ]
  }
 ],
 "metadata": {
  "kernelspec": {
   "display_name": "base",
   "language": "python",
   "name": "python3"
  },
  "language_info": {
   "codemirror_mode": {
    "name": "ipython",
    "version": 3
   },
   "file_extension": ".py",
   "mimetype": "text/x-python",
   "name": "python",
   "nbconvert_exporter": "python",
   "pygments_lexer": "ipython3",
   "version": "3.9.13"
  },
  "orig_nbformat": 4,
  "vscode": {
   "interpreter": {
    "hash": "259b4fef693b2d75168774e41cff93a193031b347008aedd7a32d46d0530600c"
   }
  }
 },
 "nbformat": 4,
 "nbformat_minor": 2
}
