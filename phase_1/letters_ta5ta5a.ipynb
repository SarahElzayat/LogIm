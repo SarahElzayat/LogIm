{
 "cells": [
  {
   "cell_type": "code",
   "execution_count": 1,
   "metadata": {},
   "outputs": [],
   "source": [
    "\n",
    "import matplotlib.pyplot as plt\n",
    "from sklearn import datasets\n",
    "from sklearn import svm\n",
    "import pandas as pd # data processing, CSV file I/O (e.g. pd.read_csv)\n",
    "import commonfunctions as cf\n",
    "from commonfunctions import *\n",
    "import cv2\n",
    "import numpy as np\n",
    "from sklearn import *\n",
    "from skimage.morphology import binary_erosion, binary_dilation, binary_closing,skeletonize, thin\n",
    "\n",
    "from functions import *\n",
    "from sklearn.metrics import accuracy_score\n",
    "import os\n",
    "from os import listdir"
   ]
  },
  {
   "cell_type": "code",
   "execution_count": 2,
   "metadata": {},
   "outputs": [
    {
     "data": {
      "image/png": "[encoded data removed]",
      "text/plain": [
       "<Figure size 640x480 with 1 Axes>"
      ]
     },
     "metadata": {},
     "output_type": "display_data"
    }
   ],
   "source": [
    "# test = io.imread(\"./symbols/A/img011-024.png\")\n",
    "test = cv2.cvtColor(cv2.imread(\".\\symbols\\)\\)_364.jpg\"), cv2.THRESH_BINARY_INV)\n",
    "show_images([test])"
   ]
  },
  {
   "cell_type": "code",
   "execution_count": 3,
   "metadata": {},
   "outputs": [],
   "source": [
    "# kernel = np.ones((3, 3), np.uint8)\n",
    "\n",
    "# test = 255-test\n",
    "\n",
    "# show_images([test])\n",
    "# print(test.dtype)\n",
    "# test = cv2.dilate(test, kernel= kernel, iterations= 1)\n",
    "# show_images([test])\n",
    "\n",
    "\n",
    "def dilateLetter(image):\n",
    "    kernel = np.ones((2, 2), np.uint8)\n",
    "    img = 255 - image\n",
    "    img = cv2.dilate(img, kernel= kernel, iterations= 2)\n",
    "    img = 255 - img\n",
    "    return img"
   ]
  },
  {
   "cell_type": "code",
   "execution_count": 5,
   "metadata": {},
   "outputs": [],
   "source": [
    "folder_dir = \"./symbols/+\"\n",
    "dist = './symbols/+_copy'\n",
    "for image in os.listdir(folder_dir):\n",
    "    input = cv2.cvtColor(cv2.imread(folder_dir+'/'+image), cv2.COLOR_BGR2GRAY)\n",
    "    output = dilateLetter(input)\n",
    "    cv2.imwrite(os.path.join(dist ,image),output)\n",
    "\n",
    "    # cv2.imwrite(dist+image, output)"
   ]
  }
 ],
 "metadata": {
  "kernelspec": {
   "display_name": "base",
   "language": "python",
   "name": "python3"
  },
  "language_info": {
   "codemirror_mode": {
    "name": "ipython",
    "version": 3
   },
   "file_extension": ".py",
   "mimetype": "text/x-python",
   "name": "python",
   "nbconvert_exporter": "python",
   "pygments_lexer": "ipython3",
   "version": "3.9.13"
  },
  "orig_nbformat": 4,
  "vscode": {
   "interpreter": {
    "hash": "6aed28f9a78851c43da2b2382d0b32bbb8b6b4eda720ce0dee6d1ffb80b64718"
   }
  }
 },
 "nbformat": 4,
 "nbformat_minor": 2
}
