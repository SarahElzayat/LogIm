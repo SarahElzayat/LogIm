{
 "cells": [
  {
   "cell_type": "code",
   "execution_count": 2,
   "metadata": {},
   "outputs": [],
   "source": [
    "import numpy as np\n",
    "import pandas as pd\n",
    "import matplotlib.pyplot as plt\n",
    "import cv2\n",
    "import os\n",
    "from commonfunctions import *\n",
    "from collections import defaultdict\n",
    "\n",
    "from skimage.morphology import binary_erosion, binary_dilation\n"
   ]
  },
  {
   "cell_type": "code",
   "execution_count": null,
   "metadata": {},
   "outputs": [],
   "source": [
    "directory= './E_F_symbols/'\n",
    "Name=[]\n",
    "for file in os.listdir(directory):\n",
    "    Name+=[file]\n",
    "\n",
    "#################################\n",
    "d = defaultdict(int)\n",
    "co = 0\n",
    "for x in sorted(os.listdir(directory)):\n",
    "    if not x.startswith('.') and not d[x]:\n",
    "        d[x] = co\n",
    "        co+=1\n",
    "\n",
    "for path, subdirs, files in os.walk(directory):\n",
    "        if(path.startswith(directory + '.')):\n",
    "            continue\n",
    "        files = [f for f in files if not f[0] == '.'] # Ignore '.directory' file\n",
    "        # print(path, len(files))\n",
    "\n",
    "        se = np.ones((3,3), dtype=np.uint8)       \n",
    "        for name in files:\n",
    "            image=cv2.imread(os.path.join(path, name))\n",
    "            image = 255 - image\n",
    "            # cv2.imwrite(os.path.join(path, name), 255-image)\n",
    "            \n",
    "            eroded = 255 -cv2.erode(image,kernel= se, iterations= 15 )\n",
    "            cv2.imwrite(os.path.join(path, name), eroded)\n",
    "            # eroded = cv2.erode(image,kernel= se )\n",
    "            "
   ]
  }
 ],
 "metadata": {
  "kernelspec": {
   "display_name": "base",
   "language": "python",
   "name": "python3"
  },
  "language_info": {
   "codemirror_mode": {
    "name": "ipython",
    "version": 3
   },
   "file_extension": ".py",
   "mimetype": "text/x-python",
   "name": "python",
   "nbconvert_exporter": "python",
   "pygments_lexer": "ipython3",
   "version": "3.9.13 (main, Aug 25 2022, 23:51:50) [MSC v.1916 64 bit (AMD64)]"
  },
  "orig_nbformat": 4,
  "vscode": {
   "interpreter": {
    "hash": "6aed28f9a78851c43da2b2382d0b32bbb8b6b4eda720ce0dee6d1ffb80b64718"
   }
  }
 },
 "nbformat": 4,
 "nbformat_minor": 2
}
