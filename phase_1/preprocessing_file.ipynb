{
 "cells": [
  {
   "cell_type": "code",
   "execution_count": null,
   "id": "6540cc7b",
   "metadata": {},
   "outputs": [],
   "source": [
    "import sys\n",
    "from commonfunctions import *\n",
    "import matplotlib.pyplot as plt\n",
    "import numpy as np\n",
    "import skimage.io as io\n",
    "from skimage.color import rgb2gray\n",
    "from scipy.ndimage import interpolation as inter\n",
    "\n",
    "import cv2\n",
    "from utlis import *"
   ]
  },
  {
   "cell_type": "code",
   "execution_count": null,
   "id": "3ee80cfb",
   "metadata": {},
   "outputs": [],
   "source": [
    "def skew_correction(image, showTrace):\n",
    "        \n",
    "    # correct skew\n",
    "    def RotationAngle(binImg):\n",
    "        def find_score(arr, angle):\n",
    "            data = inter.rotate(arr, angle, reshape=False, order=0)\n",
    "            hist = np.sum(data, axis=1)\n",
    "            score = np.sum((hist[1:] - hist[:-1]) ** 2)\n",
    "            return hist, score\n",
    "        delta = 1\n",
    "        limit = 50\n",
    "        angles = np.arange(-limit, limit+delta, delta)\n",
    "        scores = []\n",
    "        for angle in angles:\n",
    "            hist, score = find_score(binImg, angle)\n",
    "            scores.append(score)\n",
    "        best_score = max(scores)\n",
    "        best_angle = angles[scores.index(best_score)]\n",
    "        return best_angle\n",
    "\n",
    "    def RotateImage(thresh2,angle):\n",
    "        (h, w) = thresh2.shape\n",
    "        (cX, cY) = (w // 2, h // 2)\n",
    "        M = cv2.getRotationMatrix2D((cX, cY), angle, 1.0)\n",
    "        rotated_image = cv2.warpAffine(thresh2, M, (w, h),borderMode=cv2.BORDER_CONSTANT,borderValue=(255,255,255))\n",
    "        return rotated_image\n",
    "\n",
    "    img = cv2.cvtColor(image, cv2.COLOR_BGR2GRAY)\n",
    "    thresh2 = cv2.adaptiveThreshold(img, 255, cv2.ADAPTIVE_THRESH_MEAN_C,cv2.THRESH_BINARY, 199, 5)\n",
    "    rotated = RotateImage(thresh2,RotationAngle(thresh2))\n",
    "    if(showTrace):\n",
    "        show_images([rotated])\n",
    "    \n",
    "    return rotated"
   ]
  },
  {
   "cell_type": "code",
   "execution_count": null,
   "id": "43adce4d",
   "metadata": {
    "scrolled": true
   },
   "outputs": [],
   "source": [
    "def trepozoidal_correction(image, showTrace):\n",
    "    img = cv2.resize(image, (int(480*2), int(640*2)))\n",
    "    \n",
    "    w, h = 480, 640\n",
    "    imgWarp = img.copy()\n",
    "    \n",
    "    GrayImg = cv2.cvtColor(img, cv2.COLOR_BGR2GRAY)\n",
    "\n",
    "    BlurredFrame = cv2.GaussianBlur(GrayImg, (5, 5), 1)\n",
    "\n",
    "    CannyFrame = cv2.Canny(BlurredFrame, 70, 70)\n",
    "\n",
    "\n",
    "    contours, _ = cv2.findContours(CannyFrame, cv2.RETR_EXTERNAL, cv2.CHAIN_APPROX_SIMPLE)\n",
    "\n",
    "    ContourFrame = img.copy()\n",
    "    ContourFrame = cv2.drawContours(ContourFrame, contours, -1, (255, 0, 255), 4)\n",
    "\n",
    "    CornerFrame = img.copy()\n",
    "\n",
    "    maxArea = 0\n",
    "    biggest = []\n",
    "    biggest, maxArea = biggestContour(contours)\n",
    "\n",
    "    if len(biggest) != 0 :\n",
    "        biggest = reorder(biggest)\n",
    "        drawRectangle(CornerFrame, biggest, 20)\n",
    "        CornerFrame = cv2.drawContours(CornerFrame, biggest, -1, (255, 0, 255), 25)\n",
    "        pts1 = np.float32(biggest)\n",
    "        pts2 = np.float32([[0, 0], [w, 0], [0, h], [w, h]])\n",
    "        matrix = cv2.getPerspectiveTransform(pts1, pts2)\n",
    "        imgWarpColored = cv2.warpPerspective(img, matrix, (w, h))\n",
    "\n",
    "        imgWarp = imgWarpColored.copy()\n",
    "        imgWarp=imgWarp[20:imgWarp.shape[0]+20, 20:imgWarp.shape[1]+20]\n",
    "        imgWarp = cv2.resize(imgWarp,(w, h))\n",
    "\n",
    "    # resizing\n",
    "    img = cv2.resize(img, (480, 640))\n",
    "    GrayImg = cv2.resize(GrayImg, (480, 640))\n",
    "    BlurredFrame = cv2.resize(BlurredFrame, (480, 640))\n",
    "    CannyFrame = cv2.resize(CannyFrame, (480, 640))\n",
    "    ContourFrame = cv2.resize(ContourFrame, (480, 640))\n",
    "    CornerFrame = cv2.resize(CornerFrame, (480, 640))\n",
    "\n",
    "    #displaying\n",
    "    if(showTrace):\n",
    "        show_images([img,BlurredFrame,GrayImg,CannyFrame,ContourFrame])  \n",
    "        show_images([CornerFrame,imgWarpColored,imgWarp])  \n",
    "    return imgWarp"
   ]
  },
  {
   "cell_type": "code",
   "execution_count": null,
   "id": "5d294681",
   "metadata": {},
   "outputs": [],
   "source": [
    "def CheckAlgo(image,showTrace):\n",
    "    img = cv2.resize(image, (480*2, 640*2))\n",
    "    imgGray = cv2.cvtColor(img,cv2.COLOR_BGR2GRAY)\n",
    "    imgThre= cv2.adaptiveThreshold(imgGray, 255, cv2.ADAPTIVE_THRESH_MEAN_C, \n",
    "       cv2.THRESH_BINARY_INV, 1001, 5)\n",
    "\n",
    "    imgThre2 = cv2.bitwise_not(imgThre)\n",
    "    imgThre3 =cv2.medianBlur(imgThre2,3)\n",
    "    w, h = imgThre3.shape\n",
    "    # ErodedImg = binary_dilation(binary_erosion(imgAdaptiveThre))\n",
    "    if(showTrace):\n",
    "        show_images([img,imgThre,imgThre2,imgThre3]) \n",
    "\n",
    "    top = np.sum(imgThre3[0:20, 0:h])/(20*h)\n",
    "    bottom = np.sum(imgThre3[w-20:w, 0:h])/(20*h)\n",
    "    right = np.sum(imgThre3[0:w, 0:20])/(20*w)\n",
    "    left = np.sum(imgThre3[0:w, h-20:h])/(20*w)\n",
    "    check = (top+bottom+right+left)/4\n",
    "    return check"
   ]
  },
  {
   "cell_type": "code",
   "execution_count": null,
   "id": "c1f60b0a",
   "metadata": {},
   "outputs": [],
   "source": [
    "#initializing\n",
    "def preprocessing (image, showTrace = False):\n",
    "    check = CheckAlgo(image,showTrace)\n",
    "    if(check<100):\n",
    "        img = trepozoidal_correction(image, showTrace)\n",
    "        img = cv2.cvtColor(img,cv2.COLOR_BGR2GRAY)\n",
    "        img= cv2.adaptiveThreshold(img, 255, cv2.ADAPTIVE_THRESH_GAUSSIAN_C, \n",
    "            cv2.THRESH_BINARY, 11, 5)\n",
    "    else:\n",
    "        img = skew_correction(image, showTrace)\n",
    "    return img\n",
    "\n"
   ]
  },
  {
   "cell_type": "code",
   "execution_count": null,
   "id": "482833a8",
   "metadata": {},
   "outputs": [],
   "source": [
    "# img = cv2.imread(\"preprocessing_imgs/ouy3d.jpg\")\n",
    "# img = img.astype(np.uint8)\n",
    "# show_images([img,preprocessing(img, showTrace=False)])"
   ]
  },
  {
   "cell_type": "code",
   "execution_count": null,
   "id": "affd7682",
   "metadata": {},
   "outputs": [],
   "source": [
    "# img = cv2.imread(\"preprocessing_imgs/net.jpg\")\n",
    "# img = img.astype(np.uint8)\n",
    "# show_images([img,preprocessing(img, showTrace=False)])"
   ]
  },
  {
   "cell_type": "code",
   "execution_count": null,
   "id": "2e917330",
   "metadata": {},
   "outputs": [],
   "source": [
    "# img = cv2.imread(\"preprocessing_imgs/trap2.jpg\")\n",
    "# img = img.astype(np.uint8)\n",
    "# show_images([img,preprocessing(img, showTrace=False)])"
   ]
  },
  {
   "cell_type": "code",
   "execution_count": null,
   "id": "20439f45",
   "metadata": {},
   "outputs": [],
   "source": [
    "# img = cv2.imread(\"preprocessing_imgs/algo.jpg\")\n",
    "# img = img.astype(np.uint8)\n",
    "# show_images([img,preprocessing(img, showTrace=False)])"
   ]
  },
  {
   "cell_type": "code",
   "execution_count": null,
   "id": "0cfd5768",
   "metadata": {},
   "outputs": [],
   "source": [
    "# img = cv2.imread(\"preprocessing_imgs/serious.png\")\n",
    "# img = img.astype(np.uint8)\n",
    "# show_images([img,preprocessing(img, showTrace=False)])"
   ]
  },
  {
   "cell_type": "code",
   "execution_count": null,
   "id": "1026a8a3",
   "metadata": {},
   "outputs": [],
   "source": [
    "# img = cv2.imread(\"preprocessing_imgs/Survive.png\")\n",
    "# img = img.astype(np.uint8)\n",
    "# show_images([img,import cv2\n",
    "# import commonfunctions as cf\n",
    "# import numpy as np\n",
    "# import matplotlib.pyplot as plt\n",
    "\n",
    "# import nbimporter\n",
    "# from count_rows import count_rows(img, showTrace=False)])"
   ]
  }
 ],
 "metadata": {
  "kernelspec": {
   "display_name": "Python 3.9.13 ('base')",
   "language": "python",
   "name": "python3"
  },
  "language_info": {
   "codemirror_mode": {
    "name": "ipython",
    "version": 3
   },
   "file_extension": ".py",
   "mimetype": "text/x-python",
   "name": "python",
   "nbconvert_exporter": "python",
   "pygments_lexer": "ipython3",
   "version": "3.9.13"
  },
  "vscode": {
   "interpreter": {
    "hash": "6aed28f9a78851c43da2b2382d0b32bbb8b6b4eda720ce0dee6d1ffb80b64718"
   }
  }
 },
 "nbformat": 4,
 "nbformat_minor": 5
}
