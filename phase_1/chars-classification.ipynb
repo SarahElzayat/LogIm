{
 "cells": [
  {
   "cell_type": "code",
   "execution_count": 13,
   "id": "1413b2cd",
   "metadata": {
    "execution": {
     "iopub.execute_input": "2021-12-18T11:37:42.700778Z",
     "iopub.status.busy": "2021-12-18T11:37:42.698931Z",
     "iopub.status.idle": "2021-12-18T11:37:44.109412Z",
     "shell.execute_reply": "2021-12-18T11:37:44.108672Z",
     "shell.execute_reply.started": "2021-12-18T11:04:06.120781Z"
    },
    "papermill": {
     "duration": 1.445589,
     "end_time": "2021-12-18T11:37:44.109620",
     "exception": false,
     "start_time": "2021-12-18T11:37:42.664031",
     "status": "completed"
    },
    "tags": []
   },
   "outputs": [],
   "source": [
    "import numpy as np\n",
    "import pandas as pd\n",
    "\n",
    "import matplotlib.pyplot as plt\n",
    "\n",
    "import cv2\n",
    "\n",
    "import os\n",
    "from numba import njit,prange\n",
    "from sklearn.metrics import accuracy_score\n",
    "from sklearn.metrics import confusion_matrix\n",
    "from sklearn.model_selection import train_test_split\n",
    "from sklearn.utils import shuffle\n",
    "\n",
    "\n"
   ]
  },
  {
   "cell_type": "code",
   "execution_count": 14,
   "id": "652c82af",
   "metadata": {},
   "outputs": [],
   "source": [
    "%%capture\n",
    "%run  letters_extraction.ipynb"
   ]
  },
  {
   "cell_type": "code",
   "execution_count": 15,
   "id": "8136c046",
   "metadata": {
    "execution": {
     "iopub.execute_input": "2021-12-18T11:37:44.168860Z",
     "iopub.status.busy": "2021-12-18T11:37:44.168087Z",
     "iopub.status.idle": "2021-12-18T11:37:44.172055Z",
     "shell.execute_reply": "2021-12-18T11:37:44.172702Z",
     "shell.execute_reply.started": "2021-12-18T11:04:18.971796Z"
    },
    "papermill": {
     "duration": 0.035182,
     "end_time": "2021-12-18T11:37:44.172900",
     "exception": false,
     "start_time": "2021-12-18T11:37:44.137718",
     "status": "completed"
    },
    "tags": []
   },
   "outputs": [],
   "source": [
    "directory = './symbols/'"
   ]
  },
  {
   "cell_type": "markdown",
   "id": "77ed101d",
   "metadata": {
    "papermill": {
     "duration": 0.027008,
     "end_time": "2021-12-18T11:37:44.228959",
     "exception": false,
     "start_time": "2021-12-18T11:37:44.201951",
     "status": "completed"
    },
    "tags": []
   },
   "source": [
    "<h3>Reading directory names</h3>"
   ]
  },
  {
   "cell_type": "code",
   "execution_count": 16,
   "id": "876350af",
   "metadata": {
    "execution": {
     "iopub.execute_input": "2021-12-18T11:37:44.289321Z",
     "iopub.status.busy": "2021-12-18T11:37:44.288521Z",
     "iopub.status.idle": "2021-12-18T11:37:44.300771Z",
     "shell.execute_reply": "2021-12-18T11:37:44.301271Z",
     "shell.execute_reply.started": "2021-12-18T11:04:38.699861Z"
    },
    "papermill": {
     "duration": 0.045025,
     "end_time": "2021-12-18T11:37:44.301451",
     "exception": false,
     "start_time": "2021-12-18T11:37:44.256426",
     "status": "completed"
    },
    "tags": []
   },
   "outputs": [
    {
     "name": "stdout",
     "output_type": "stream",
     "text": [
      "['!', '(', ')', '+', '0', '1', '=', 'A', 'B', 'C', 'eq', 'F', 'G', 'M', 'N', 'z']\n",
      "16\n"
     ]
    }
   ],
   "source": [
    "Name=[]\n",
    "for file in os.listdir(directory):\n",
    "    Name+=[file]\n",
    "print(Name)\n",
    "print(len(Name))"
   ]
  },
  {
   "cell_type": "markdown",
   "id": "53557eb5",
   "metadata": {
    "papermill": {
     "duration": 0.02717,
     "end_time": "2021-12-18T11:37:44.356100",
     "exception": false,
     "start_time": "2021-12-18T11:37:44.328930",
     "status": "completed"
    },
    "tags": []
   },
   "source": [
    "<h4>Getting a list of unique file extensions</h4>"
   ]
  },
  {
   "cell_type": "code",
   "execution_count": 17,
   "id": "a26e190d",
   "metadata": {
    "execution": {
     "iopub.execute_input": "2021-12-18T11:37:44.414041Z",
     "iopub.status.busy": "2021-12-18T11:37:44.413099Z",
     "iopub.status.idle": "2021-12-18T11:37:45.397848Z",
     "shell.execute_reply": "2021-12-18T11:37:45.398359Z",
     "shell.execute_reply.started": "2021-12-18T10:03:33.560517Z"
    },
    "papermill": {
     "duration": 1.015411,
     "end_time": "2021-12-18T11:37:45.398525",
     "exception": false,
     "start_time": "2021-12-18T11:37:44.383114",
     "status": "completed"
    },
    "tags": []
   },
   "outputs": [
    {
     "name": "stdout",
     "output_type": "stream",
     "text": [
      "['.jpg', '.png', '.jpeg']\n"
     ]
    },
    {
     "data": {
      "text/plain": [
       "['!',\n",
       " '(',\n",
       " ')',\n",
       " '+',\n",
       " '0',\n",
       " '1',\n",
       " '=',\n",
       " 'A',\n",
       " 'B',\n",
       " 'C',\n",
       " 'F',\n",
       " 'G',\n",
       " 'M',\n",
       " 'N',\n",
       " 'eq',\n",
       " 'z']"
      ]
     },
     "execution_count": 17,
     "metadata": {},
     "output_type": "execute_result"
    }
   ],
   "source": [
    "extensions = []\n",
    "\n",
    "for path, subdirs, files in os.walk(directory):\n",
    "        for name in files:\n",
    "            if os.path.splitext(name)[1] not in extensions:\n",
    "                extensions += [os.path.splitext(name)[1]]\n",
    "\n",
    "print(extensions)\n",
    "sorted(os.listdir(directory))"
   ]
  },
  {
   "cell_type": "markdown",
   "id": "afeebb79",
   "metadata": {
    "papermill": {
     "duration": 0.027827,
     "end_time": "2021-12-18T11:37:45.816461",
     "exception": false,
     "start_time": "2021-12-18T11:37:45.788634",
     "status": "completed"
    },
    "tags": []
   },
   "source": [
    "<h3>Map unique strings to integers in Python. Make dictionary</h3>"
   ]
  },
  {
   "cell_type": "code",
   "execution_count": 18,
   "id": "e9d6aedf",
   "metadata": {
    "execution": {
     "iopub.execute_input": "2021-12-18T11:37:45.881367Z",
     "iopub.status.busy": "2021-12-18T11:37:45.880349Z",
     "iopub.status.idle": "2021-12-18T11:37:45.886085Z",
     "shell.execute_reply": "2021-12-18T11:37:45.886708Z",
     "shell.execute_reply.started": "2021-12-18T11:08:12.018135Z"
    },
    "papermill": {
     "duration": 0.0416,
     "end_time": "2021-12-18T11:37:45.886877",
     "exception": false,
     "start_time": "2021-12-18T11:37:45.845277",
     "status": "completed"
    },
    "tags": []
   },
   "outputs": [
    {
     "data": {
      "text/plain": [
       "defaultdict(int,\n",
       "            {'!': 0,\n",
       "             '(': 1,\n",
       "             ')': 2,\n",
       "             '+': 3,\n",
       "             '0': 4,\n",
       "             '1': 5,\n",
       "             '=': 6,\n",
       "             'A': 7,\n",
       "             'B': 8,\n",
       "             'C': 9,\n",
       "             'F': 10,\n",
       "             'G': 11,\n",
       "             'M': 12,\n",
       "             'N': 13,\n",
       "             'eq': 14,\n",
       "             'z': 15})"
      ]
     },
     "execution_count": 18,
     "metadata": {},
     "output_type": "execute_result"
    }
   ],
   "source": [
    "from collections import defaultdict\n",
    "d = defaultdict(int)\n",
    "co = 0\n",
    "for x in sorted(os.listdir(directory)):\n",
    "    if not d[x]:\n",
    "        d[x] = co\n",
    "        co+=1\n",
    "d"
   ]
  },
  {
   "cell_type": "markdown",
   "id": "725c944a",
   "metadata": {
    "papermill": {
     "duration": 0.031589,
     "end_time": "2021-12-18T11:37:46.086604",
     "exception": false,
     "start_time": "2021-12-18T11:37:46.055015",
     "status": "completed"
    },
    "tags": []
   },
   "source": [
    "<h3>Resizing images</h3>"
   ]
  },
  {
   "cell_type": "code",
   "execution_count": 19,
   "id": "724ebcc8",
   "metadata": {
    "execution": {
     "iopub.execute_input": "2021-12-18T11:37:46.151800Z",
     "iopub.status.busy": "2021-12-18T11:37:46.151030Z",
     "iopub.status.idle": "2021-12-18T11:38:47.689437Z",
     "shell.execute_reply": "2021-12-18T11:38:47.690120Z",
     "shell.execute_reply.started": "2021-12-18T11:09:35.331930Z"
    },
    "papermill": {
     "duration": 61.572822,
     "end_time": "2021-12-18T11:38:47.690355",
     "exception": false,
     "start_time": "2021-12-18T11:37:46.117533",
     "status": "completed"
    },
    "tags": []
   },
   "outputs": [],
   "source": [
    "def prepare_image(img):\n",
    "    image = cv2.cvtColor(img, cv2.COLOR_BGR2GRAY)\n",
    "    image = get_letters(image, single_letter=True)[0]\n",
    "    return image\n",
    "\n",
    "def images_resize(directory):\n",
    "    list_target_names = []\n",
    "    list_images = []\n",
    "        \n",
    "    for path, subdirs, files in os.walk(directory):\n",
    "        files = [f for f in files if not f[0] == '.'] # Ignore '.directory' file\n",
    "        subdirs[:] = [d for d in subdirs if not d[0] == '.'] # Ignore hidden directories\n",
    "        \n",
    "        for name in files:\n",
    "            image=cv2.imread(os.path.join(path, name))\n",
    "            image = prepare_image(image)\n",
    "            # image=cv2.resize(image, (100, 100))\n",
    "            list_target_names.append(os.path.basename(path))\n",
    "            list_images.append(image)\n",
    "    \n",
    "    return list_target_names,  list_images \n",
    "        \n",
    "target_names,images = images_resize(directory)"
   ]
  },
  {
   "cell_type": "code",
   "execution_count": 20,
   "id": "fe0a5782",
   "metadata": {
    "execution": {
     "iopub.execute_input": "2021-12-18T11:38:47.752478Z",
     "iopub.status.busy": "2021-12-18T11:38:47.751512Z",
     "iopub.status.idle": "2021-12-18T11:38:47.756680Z",
     "shell.execute_reply": "2021-12-18T11:38:47.757303Z",
     "shell.execute_reply.started": "2021-12-18T10:03:58.839658Z"
    },
    "papermill": {
     "duration": 0.03777,
     "end_time": "2021-12-18T11:38:47.757463",
     "exception": false,
     "start_time": "2021-12-18T11:38:47.719693",
     "status": "completed"
    },
    "tags": []
   },
   "outputs": [
    {
     "data": {
      "text/plain": [
       "136369"
      ]
     },
     "execution_count": 20,
     "metadata": {},
     "output_type": "execute_result"
    }
   ],
   "source": [
    "len(target_names)"
   ]
  },
  {
   "cell_type": "code",
   "execution_count": 21,
   "id": "c327cdfb",
   "metadata": {
    "execution": {
     "iopub.execute_input": "2021-12-18T11:38:47.820624Z",
     "iopub.status.busy": "2021-12-18T11:38:47.819653Z",
     "iopub.status.idle": "2021-12-18T11:38:47.824661Z",
     "shell.execute_reply": "2021-12-18T11:38:47.825262Z",
     "shell.execute_reply.started": "2021-12-18T10:03:58.849096Z"
    },
    "papermill": {
     "duration": 0.038951,
     "end_time": "2021-12-18T11:38:47.825436",
     "exception": false,
     "start_time": "2021-12-18T11:38:47.786485",
     "status": "completed"
    },
    "tags": []
   },
   "outputs": [
    {
     "data": {
      "text/plain": [
       "136369"
      ]
     },
     "execution_count": 21,
     "metadata": {},
     "output_type": "execute_result"
    }
   ],
   "source": [
    "len(images)"
   ]
  },
  {
   "cell_type": "code",
   "execution_count": 22,
   "id": "d1486c57",
   "metadata": {
    "execution": {
     "iopub.execute_input": "2021-12-18T11:38:47.891804Z",
     "iopub.status.busy": "2021-12-18T11:38:47.890853Z",
     "iopub.status.idle": "2021-12-18T11:38:47.898494Z",
     "shell.execute_reply": "2021-12-18T11:38:47.899014Z",
     "shell.execute_reply.started": "2021-12-18T11:10:48.100434Z"
    },
    "papermill": {
     "duration": 0.041657,
     "end_time": "2021-12-18T11:38:47.899193",
     "exception": false,
     "start_time": "2021-12-18T11:38:47.857536",
     "status": "completed"
    },
    "tags": []
   },
   "outputs": [
    {
     "data": {
      "text/plain": [
       "Counter({'!': 1300,\n",
       "         '(': 14294,\n",
       "         ')': 14355,\n",
       "         '+': 25112,\n",
       "         '0': 7509,\n",
       "         '1': 27082,\n",
       "         '=': 13104,\n",
       "         'A': 55,\n",
       "         'B': 2400,\n",
       "         'C': 5857,\n",
       "         'F': 3767,\n",
       "         'G': 1692,\n",
       "         'M': 2476,\n",
       "         'N': 10862,\n",
       "         'eq': 634,\n",
       "         'z': 5870})"
      ]
     },
     "execution_count": 22,
     "metadata": {},
     "output_type": "execute_result"
    }
   ],
   "source": [
    "from collections import Counter\n",
    "c = Counter(sorted(target_names))\n",
    "\n",
    "c"
   ]
  },
  {
   "cell_type": "markdown",
   "id": "5a20c36f",
   "metadata": {
    "papermill": {
     "duration": 0.029622,
     "end_time": "2021-12-18T11:38:47.958272",
     "exception": false,
     "start_time": "2021-12-18T11:38:47.928650",
     "status": "completed"
    },
    "tags": []
   },
   "source": [
    "<h3>Assign a Dictionary Value to the List <B><I>\"target_names\"</I></B> Based on Dictionary Key</h3>"
   ]
  },
  {
   "cell_type": "code",
   "execution_count": 23,
   "id": "6dab2c61",
   "metadata": {
    "execution": {
     "iopub.execute_input": "2021-12-18T11:38:48.022817Z",
     "iopub.status.busy": "2021-12-18T11:38:48.021846Z",
     "iopub.status.idle": "2021-12-18T11:38:48.026247Z",
     "shell.execute_reply": "2021-12-18T11:38:48.026811Z",
     "shell.execute_reply.started": "2021-12-18T11:11:02.519836Z"
    },
    "papermill": {
     "duration": 0.038581,
     "end_time": "2021-12-18T11:38:48.026985",
     "exception": false,
     "start_time": "2021-12-18T11:38:47.988404",
     "status": "completed"
    },
    "tags": []
   },
   "outputs": [],
   "source": [
    "target_names = [d[key] for key in target_names]"
   ]
  },
  {
   "cell_type": "code",
   "execution_count": 24,
   "id": "fdf1eb99",
   "metadata": {
    "execution": {
     "iopub.execute_input": "2021-12-18T11:38:48.090599Z",
     "iopub.status.busy": "2021-12-18T11:38:48.089661Z",
     "iopub.status.idle": "2021-12-18T11:38:49.390309Z",
     "shell.execute_reply": "2021-12-18T11:38:49.389755Z",
     "shell.execute_reply.started": "2021-12-18T11:16:23.032899Z"
    },
    "papermill": {
     "duration": 1.333846,
     "end_time": "2021-12-18T11:38:49.390476",
     "exception": false,
     "start_time": "2021-12-18T11:38:48.056630",
     "status": "completed"
    },
    "tags": []
   },
   "outputs": [
    {
     "data": {
      "image/png": "[encoded data removed]",
      "text/plain": [
       "<Figure size 1000x1000 with 25 Axes>"
      ]
     },
     "metadata": {},
     "output_type": "display_data"
    }
   ],
   "source": [
    "fig, ax = plt.subplots(5, 5, figsize=(10, 10))\n",
    "\n",
    "for i, axi in enumerate(ax.flat):\n",
    "    axi.imshow(images[i], cmap='bone')\n",
    "    axi.set(xticks=[], yticks=[],\n",
    "            xlabel=target_names[i])\n",
    "    axi.xaxis.label.set_color('green')"
   ]
  },
  {
   "cell_type": "markdown",
   "id": "4ad05016",
   "metadata": {
    "papermill": {
     "duration": 0.032091,
     "end_time": "2021-12-18T11:38:49.454678",
     "exception": false,
     "start_time": "2021-12-18T11:38:49.422587",
     "status": "completed"
    },
    "tags": []
   },
   "source": [
    "<h4>Randomly shuffle two lists \"target_names\" and \"images\" keeping initial order</h4>"
   ]
  },
  {
   "cell_type": "code",
   "execution_count": 25,
   "id": "e3e2279e",
   "metadata": {
    "execution": {
     "iopub.execute_input": "2021-12-18T11:38:49.523889Z",
     "iopub.status.busy": "2021-12-18T11:38:49.522859Z",
     "iopub.status.idle": "2021-12-18T11:38:49.651105Z",
     "shell.execute_reply": "2021-12-18T11:38:49.650423Z",
     "shell.execute_reply.started": "2021-12-18T11:16:39.252685Z"
    },
    "papermill": {
     "duration": 0.163911,
     "end_time": "2021-12-18T11:38:49.651288",
     "exception": false,
     "start_time": "2021-12-18T11:38:49.487377",
     "status": "completed"
    },
    "tags": []
   },
   "outputs": [],
   "source": [
    "# target_names_shuffled, images_shuffled = shuffle(np.array(target_names, dtype=object), np.array(images, dtype=object))\n",
    "target_names_shuffled, images_shuffled = shuffle(np.array(target_names), np.array(images))"
   ]
  },
  {
   "cell_type": "code",
   "execution_count": 26,
   "id": "40d904d7",
   "metadata": {
    "execution": {
     "iopub.execute_input": "2021-12-18T11:38:49.721637Z",
     "iopub.status.busy": "2021-12-18T11:38:49.720643Z",
     "iopub.status.idle": "2021-12-18T11:38:50.824488Z",
     "shell.execute_reply": "2021-12-18T11:38:50.824983Z",
     "shell.execute_reply.started": "2021-12-18T11:16:49.345964Z"
    },
    "papermill": {
     "duration": 1.141645,
     "end_time": "2021-12-18T11:38:50.825167",
     "exception": false,
     "start_time": "2021-12-18T11:38:49.683522",
     "status": "completed"
    },
    "tags": []
   },
   "outputs": [
    {
     "data": {
      "image/png": "[encoded data removed]",
      "text/plain": [
       "<Figure size 1000x1000 with 25 Axes>"
      ]
     },
     "metadata": {},
     "output_type": "display_data"
    }
   ],
   "source": [
    "fig, ax = plt.subplots(5, 5, figsize=(10, 10))\n",
    "\n",
    "for i, axi in enumerate(ax.flat):\n",
    "    axi.imshow(images_shuffled[i], cmap='bone')\n",
    "    axi.set(xticks=[], yticks=[], xlabel=target_names_shuffled[i])\n",
    "    axi.xaxis.label.set_color('green')"
   ]
  },
  {
   "cell_type": "markdown",
   "id": "bba1a17a",
   "metadata": {
    "papermill": {
     "duration": 0.033621,
     "end_time": "2021-12-18T11:38:50.893163",
     "exception": false,
     "start_time": "2021-12-18T11:38:50.859542",
     "status": "completed"
    },
    "tags": []
   },
   "source": [
    "<h4>Reshaping dataframe</h4>"
   ]
  },
  {
   "cell_type": "code",
   "execution_count": 27,
   "id": "933fe9b1",
   "metadata": {
    "execution": {
     "iopub.execute_input": "2021-12-18T11:38:50.970278Z",
     "iopub.status.busy": "2021-12-18T11:38:50.966050Z",
     "iopub.status.idle": "2021-12-18T11:38:50.973372Z",
     "shell.execute_reply": "2021-12-18T11:38:50.973832Z",
     "shell.execute_reply.started": "2021-12-18T11:31:00.752590Z"
    },
    "papermill": {
     "duration": 0.045032,
     "end_time": "2021-12-18T11:38:50.974029",
     "exception": false,
     "start_time": "2021-12-18T11:38:50.928997",
     "status": "completed"
    },
    "tags": []
   },
   "outputs": [
    {
     "data": {
      "text/plain": [
       "(136369, 784)"
      ]
     },
     "execution_count": 27,
     "metadata": {},
     "output_type": "execute_result"
    }
   ],
   "source": [
    "n_samples,nx,ny= images_shuffled.shape\n",
    "images_shuffled = images_shuffled.reshape(n_samples, nx*ny)\n",
    "images_shuffled.shape"
   ]
  },
  {
   "cell_type": "code",
   "execution_count": 28,
   "id": "b438c045",
   "metadata": {
    "execution": {
     "iopub.execute_input": "2021-12-18T11:38:51.207537Z",
     "iopub.status.busy": "2021-12-18T11:38:51.206519Z",
     "iopub.status.idle": "2021-12-18T11:38:51.264060Z",
     "shell.execute_reply": "2021-12-18T11:38:51.263501Z",
     "shell.execute_reply.started": "2021-12-18T11:31:19.470797Z"
    },
    "papermill": {
     "duration": 0.096235,
     "end_time": "2021-12-18T11:38:51.264267",
     "exception": false,
     "start_time": "2021-12-18T11:38:51.168032",
     "status": "completed"
    },
    "tags": []
   },
   "outputs": [],
   "source": [
    "Xtrain, Xtest, ytrain, ytest = train_test_split(images_shuffled, target_names_shuffled, random_state=0)"
   ]
  },
  {
   "cell_type": "code",
   "execution_count": 29,
   "id": "17c46057",
   "metadata": {},
   "outputs": [],
   "source": [
    "# import numpy as np\n",
    "# from joblib import parallel_backend # added line.\n",
    "# from sklearn.datasets import load_digits\n",
    "# from sklearn.model_selection import RandomizedSearchCV\n",
    "# from sklearn.svm import SVC      \n",
    "# from sklearn.ensemble import RandomForestClassifier\n",
    "# from ray.util.joblib import register_ray # added line.\n",
    "# register_ray() # added line.\n",
    "\n",
    "# param_space = {\n",
    "#     'C': np.logspace(-6, 6, 30),\n",
    "#     'gamma': np.logspace(-8, 8, 30),\n",
    "#     'tol': np.logspace(-4, -1, 30),\n",
    "#     'class_weight': [None, 'balanced'],\n",
    "# }\n",
    "\n",
    "# model = RandomForestClassifier(n_estimators=1000)\n",
    "# search = RandomizedSearchCV(model, param_space, cv=5, n_iter=300,verbose=1)\n",
    "# # digits = load_digits()\n",
    "# ray.init(address='auto')\n",
    "# with parallel_backend('ray'): # added line.\n",
    "#     search.fit(Xtrain, ytrain)\n",
    "    \n",
    "# ypred = search.predict(Xtest)\n"
   ]
  },
  {
   "cell_type": "markdown",
   "id": "1cebb94c",
   "metadata": {
    "papermill": {
     "duration": 0.034815,
     "end_time": "2021-12-18T11:38:51.334363",
     "exception": false,
     "start_time": "2021-12-18T11:38:51.299548",
     "status": "completed"
    },
    "tags": []
   },
   "source": [
    "<h3>Implementing an Random Forest Classifier</h3>"
   ]
  },
  {
   "cell_type": "code",
   "execution_count": 31,
   "id": "6ce5dbf1",
   "metadata": {
    "execution": {
     "iopub.execute_input": "2021-12-18T11:38:51.408050Z",
     "iopub.status.busy": "2021-12-18T11:38:51.407117Z",
     "iopub.status.idle": "2021-12-18T11:41:49.304077Z",
     "shell.execute_reply": "2021-12-18T11:41:49.303466Z",
     "shell.execute_reply.started": "2021-12-18T11:31:29.034370Z"
    },
    "papermill": {
     "duration": 177.935007,
     "end_time": "2021-12-18T11:41:49.304295",
     "exception": false,
     "start_time": "2021-12-18T11:38:51.369288",
     "status": "completed"
    },
    "tags": []
   },
   "outputs": [],
   "source": [
    "# from sklearnex import patch_sklearn\n",
    "import joblib\n",
    "# patch_sklearn()\n",
    "\n",
    "from sklearn.ensemble import RandomForestClassifier\n",
    "model = RandomForestClassifier(n_estimators=1000)\n",
    "model.fit(Xtrain, ytrain)\n",
    "ypred = model.predict(Xtest)\n",
    "\n",
    "# from sklearn.tree import DecisionTreeClassifier\n",
    "# clf = DecisionTreeClassifier()\n",
    "# clf.fit(Xtrain, ytrain)\n",
    "# ypred = clf.predict(Xtest)\n",
    "\n",
    "# from sklearn import svm\n",
    "# model = svm.SVC(gamma = 0.001, C =100)\n",
    "# model.fit(Xtrain, ytrain)\n",
    "# ypred = model.predict(Xtest)\n",
    "\n",
    " \n",
    "# import pickle\n",
    "# s = pickle.dumps(model)\n"
   ]
  },
  {
   "cell_type": "code",
   "execution_count": null,
   "id": "b758c035",
   "metadata": {},
   "outputs": [
    {
     "data": {
      "text/plain": [
       "['finalized_model.sav']"
      ]
     },
     "execution_count": 60,
     "metadata": {},
     "output_type": "execute_result"
    }
   ],
   "source": [
    "import joblib\n",
    "\n",
    "# save the model to disk\n",
    "filename = 'finalized_model.sav'\n",
    "joblib.dump(model, filename)\n",
    " "
   ]
  },
  {
   "cell_type": "markdown",
   "id": "13329bd7",
   "metadata": {
    "papermill": {
     "duration": 0.034982,
     "end_time": "2021-12-18T11:41:49.374932",
     "exception": false,
     "start_time": "2021-12-18T11:41:49.339950",
     "status": "completed"
    },
    "tags": []
   },
   "source": [
    "<h3>The classification report for this classifier:</h3>"
   ]
  },
  {
   "cell_type": "code",
   "execution_count": null,
   "id": "6ab645b6",
   "metadata": {
    "execution": {
     "iopub.execute_input": "2021-12-18T11:41:49.449893Z",
     "iopub.status.busy": "2021-12-18T11:41:49.448914Z",
     "iopub.status.idle": "2021-12-18T11:41:49.466818Z",
     "shell.execute_reply": "2021-12-18T11:41:49.466272Z",
     "shell.execute_reply.started": "2021-12-18T11:34:56.358299Z"
    },
    "papermill": {
     "duration": 0.056569,
     "end_time": "2021-12-18T11:41:49.466980",
     "exception": false,
     "start_time": "2021-12-18T11:41:49.410411",
     "status": "completed"
    },
    "tags": []
   },
   "outputs": [
    {
     "name": "stdout",
     "output_type": "stream",
     "text": [
      "(38538, 2025)\n",
      "              precision    recall  f1-score   support\n",
      "\n",
      "           0       0.95      0.99      0.97       340\n",
      "           1       0.98      0.97      0.97      3648\n",
      "           2       0.96      0.98      0.97      3602\n",
      "           3       0.96      0.97      0.97      6221\n",
      "           4       0.98      0.99      0.99      8484\n",
      "           5       0.94      0.94      0.94      1837\n",
      "           6       0.96      0.95      0.96      6807\n",
      "           7       0.98      0.97      0.98      3253\n",
      "           8       1.00      0.60      0.75        10\n",
      "           9       1.00      0.55      0.71        11\n",
      "          10       0.97      0.98      0.97      1451\n",
      "          11       1.00      0.14      0.25        14\n",
      "          12       1.00      0.47      0.64        15\n",
      "          13       0.78      0.58      0.67        12\n",
      "          14       0.97      0.97      0.97       418\n",
      "          15       0.96      0.96      0.96       621\n",
      "          16       0.99      0.73      0.84       135\n",
      "          17       0.98      0.60      0.74       143\n",
      "          18       0.97      0.98      0.98      1516\n",
      "\n",
      "    accuracy                           0.97     38538\n",
      "   macro avg       0.96      0.81      0.85     38538\n",
      "weighted avg       0.97      0.97      0.97     38538\n",
      "\n",
      "Accuracy: 0.968861902537755\n"
     ]
    }
   ],
   "source": [
    "from sklearn import metrics\n",
    "print(Xtest.shape)\n",
    "print(metrics.classification_report(ytest, ypred))\n",
    "print(\"Accuracy:\",metrics.accuracy_score(ytest, ypred))"
   ]
  },
  {
   "cell_type": "markdown",
   "id": "128c795f",
   "metadata": {
    "papermill": {
     "duration": 0.036108,
     "end_time": "2021-12-18T11:41:49.609720",
     "exception": false,
     "start_time": "2021-12-18T11:41:49.573612",
     "status": "completed"
    },
    "tags": []
   },
   "source": [
    "<h3>Plot the confusion matrix:</h3>"
   ]
  },
  {
   "cell_type": "code",
   "execution_count": null,
   "id": "3ebabf5b",
   "metadata": {
    "execution": {
     "iopub.execute_input": "2021-12-18T11:41:49.687841Z",
     "iopub.status.busy": "2021-12-18T11:41:49.686886Z",
     "iopub.status.idle": "2021-12-18T11:41:51.463104Z",
     "shell.execute_reply": "2021-12-18T11:41:51.463631Z",
     "shell.execute_reply.started": "2021-12-18T11:35:22.105608Z"
    },
    "papermill": {
     "duration": 1.818542,
     "end_time": "2021-12-18T11:41:51.463835",
     "exception": false,
     "start_time": "2021-12-18T11:41:49.645293",
     "status": "completed"
    },
    "tags": []
   },
   "outputs": [
    {
     "data": {
      "text/plain": [
       "Text(273.99999999999994, 0.5, 'predicted label')"
      ]
     },
     "execution_count": 56,
     "metadata": {},
     "output_type": "execute_result"
    },
    {
     "data": {
      "image/png": "[encoded data removed]",
      "text/plain": [
       "<Figure size 1500x1200 with 1 Axes>"
      ]
     },
     "metadata": {},
     "output_type": "display_data"
    }
   ],
   "source": [
    "import seaborn as sns\n",
    "sns.set(rc={'figure.figsize':(15,12)})\n",
    "\n",
    "mat = confusion_matrix(ytest, ypred)\n",
    "sns.heatmap(mat.T, square=True, annot=True, fmt='d', cbar=False, xticklabels=list(d.keys()), yticklabels=list(d.keys()))\n",
    "\n",
    "\n",
    "plt.xlabel('true label')\n",
    "plt.ylabel('predicted label')\n"
   ]
  },
  {
   "cell_type": "code",
   "execution_count": null,
   "id": "521a0390",
   "metadata": {},
   "outputs": [
    {
     "data": {
      "image/png": "[encoded data removed]",
      "text/plain": [
       "<Figure size 12000x9600 with 8 Axes>"
      ]
     },
     "metadata": {},
     "output_type": "display_data"
    },
    {
     "name": "stdout",
     "output_type": "stream",
     "text": [
      "(8, 2025)\n",
      "[ 6 17  5  3  3 10  3  5]\n",
      "['1', 'eq', '0', '+', '+', 'C', '+', '0']\n",
      "['1', 'eq', '0', '+', '+', 'C', '+', '0']\n"
     ]
    }
   ],
   "source": [
    "letters= cv2.cvtColor(cv2.imread(r'D:\\academic_material\\third_year\\imageProcessing\\repos\\LogIm\\phase_1\\test_images\\2.png'), cv2.COLOR_BGR2GRAY)\n",
    "letters_res = np.array(get_letters(letters, single_letter=False))\n",
    "cf.show_images(letters_res)\n",
    "# cf.show_images([letters_res[0], get_letters(letters, single_letter=False)[0]])\n",
    "\n",
    "letters_res = letters_res.reshape(len(letters_res), -1)\n",
    "\n",
    "print(letters_res.shape)\n",
    "\n",
    "results = model.predict(letters_res)\n",
    "print(results)\n",
    "print([list(d.keys())[i] for i in results])\n",
    "inv_map = {v: k for k, v in d.items()}\n",
    "print([inv_map[i] for i in results])\n"
   ]
  },
  {
   "cell_type": "code",
   "execution_count": null,
   "id": "c46fa97a",
   "metadata": {},
   "outputs": [],
   "source": [
    "# letters= cv2.cvtColor(cv2.imread(r'D:\\academic_material\\third_year\\imageProcessing\\repos\\LogIm\\phase_1\\datasets\\symbol2\\9\\0ZGdgPTM.png'), cv2.COLOR_BGR2GRAY)\n",
    "# letters_res = np.array(get_letters(letters, single_letter=True, show_trace=True))\n",
    "# cf.show_images([letters_res[0], get_letters(letters, single_letter=False,show_trace=True)[0]])"
   ]
  },
  {
   "cell_type": "code",
   "execution_count": null,
   "id": "c0bfad53",
   "metadata": {},
   "outputs": [
    {
     "ename": "error",
     "evalue": "OpenCV(4.6.0) D:\\a\\opencv-python\\opencv-python\\opencv\\modules\\imgcodecs\\src\\loadsave.cpp:801: error: (-215:Assertion failed) !_img.empty() in function 'cv::imwrite'\n",
     "output_type": "error",
     "traceback": [
      "\u001b[1;31m---------------------------------------------------------------------------\u001b[0m",
      "\u001b[1;31merror\u001b[0m                                     Traceback (most recent call last)",
      "\u001b[1;32m~\\AppData\\Local\\Temp\\ipykernel_15636\\917718642.py\u001b[0m in \u001b[0;36m<module>\u001b[1;34m\u001b[0m\n\u001b[0;32m     12\u001b[0m         \u001b[0mcv2\u001b[0m\u001b[1;33m.\u001b[0m\u001b[0mimwrite\u001b[0m\u001b[1;33m(\u001b[0m\u001b[0mos\u001b[0m\u001b[1;33m.\u001b[0m\u001b[0mpath\u001b[0m\u001b[1;33m.\u001b[0m\u001b[0mjoin\u001b[0m\u001b[1;33m(\u001b[0m\u001b[0mpath\u001b[0m\u001b[1;33m+\u001b[0m\u001b[1;34m'/inv/'\u001b[0m\u001b[1;33m,\u001b[0m\u001b[0mfilename\u001b[0m\u001b[1;33m)\u001b[0m\u001b[1;33m,\u001b[0m \u001b[0mimg\u001b[0m\u001b[1;33m)\u001b[0m\u001b[1;33m\u001b[0m\u001b[1;33m\u001b[0m\u001b[0m\n\u001b[0;32m     13\u001b[0m \u001b[1;33m\u001b[0m\u001b[0m\n\u001b[1;32m---> 14\u001b[1;33m \u001b[0minvert_and_rotate_images\u001b[0m\u001b[1;33m(\u001b[0m\u001b[1;34mr\"D:\\academic_material\\third_year\\imageProcessing\\repos\\LogIm\\phase_1\\datasets\\symbol2\\B_emn\"\u001b[0m\u001b[1;33m)\u001b[0m\u001b[1;33m\u001b[0m\u001b[1;33m\u001b[0m\u001b[0m\n\u001b[0m",
      "\u001b[1;32m~\\AppData\\Local\\Temp\\ipykernel_15636\\917718642.py\u001b[0m in \u001b[0;36minvert_and_rotate_images\u001b[1;34m(path)\u001b[0m\n\u001b[0;32m     10\u001b[0m         \u001b[0mimg\u001b[0m \u001b[1;33m=\u001b[0m \u001b[0mcv2\u001b[0m\u001b[1;33m.\u001b[0m\u001b[0mbitwise_not\u001b[0m\u001b[1;33m(\u001b[0m\u001b[0mimg\u001b[0m\u001b[1;33m)\u001b[0m\u001b[1;33m\u001b[0m\u001b[1;33m\u001b[0m\u001b[0m\n\u001b[0;32m     11\u001b[0m         \u001b[0mimg\u001b[0m \u001b[1;33m=\u001b[0m \u001b[0mcv2\u001b[0m\u001b[1;33m.\u001b[0m\u001b[0mrotate\u001b[0m\u001b[1;33m(\u001b[0m\u001b[0mimg\u001b[0m\u001b[1;33m,\u001b[0m \u001b[0mcv2\u001b[0m\u001b[1;33m.\u001b[0m\u001b[0mROTATE_90_COUNTERCLOCKWISE\u001b[0m\u001b[1;33m)\u001b[0m\u001b[1;33m\u001b[0m\u001b[1;33m\u001b[0m\u001b[0m\n\u001b[1;32m---> 12\u001b[1;33m         \u001b[0mcv2\u001b[0m\u001b[1;33m.\u001b[0m\u001b[0mimwrite\u001b[0m\u001b[1;33m(\u001b[0m\u001b[0mos\u001b[0m\u001b[1;33m.\u001b[0m\u001b[0mpath\u001b[0m\u001b[1;33m.\u001b[0m\u001b[0mjoin\u001b[0m\u001b[1;33m(\u001b[0m\u001b[0mpath\u001b[0m\u001b[1;33m+\u001b[0m\u001b[1;34m'/inv/'\u001b[0m\u001b[1;33m,\u001b[0m\u001b[0mfilename\u001b[0m\u001b[1;33m)\u001b[0m\u001b[1;33m,\u001b[0m \u001b[0mimg\u001b[0m\u001b[1;33m)\u001b[0m\u001b[1;33m\u001b[0m\u001b[1;33m\u001b[0m\u001b[0m\n\u001b[0m\u001b[0;32m     13\u001b[0m \u001b[1;33m\u001b[0m\u001b[0m\n\u001b[0;32m     14\u001b[0m \u001b[0minvert_and_rotate_images\u001b[0m\u001b[1;33m(\u001b[0m\u001b[1;34mr\"D:\\academic_material\\third_year\\imageProcessing\\repos\\LogIm\\phase_1\\datasets\\symbol2\\B_emn\"\u001b[0m\u001b[1;33m)\u001b[0m\u001b[1;33m\u001b[0m\u001b[1;33m\u001b[0m\u001b[0m\n",
      "\u001b[1;31merror\u001b[0m: OpenCV(4.6.0) D:\\a\\opencv-python\\opencv-python\\opencv\\modules\\imgcodecs\\src\\loadsave.cpp:801: error: (-215:Assertion failed) !_img.empty() in function 'cv::imwrite'\n"
     ]
    }
   ],
   "source": [
    "\n",
    "import os\n",
    "import cv2\n",
    "import numpy as np\n",
    "\n",
    "# invert and rotate all the images in the B directory \n",
    "# to make them look like the images in the A directory\n",
    "def invert_and_rotate_images(path):\n",
    "    for filename in os.listdir(path):\n",
    "        img = cv2.imread(os.path.join(path,filename))\n",
    "        img = cv2.bitwise_not(img)\n",
    "        img = cv2.rotate(img, cv2.ROTATE_90_COUNTERCLOCKWISE)\n",
    "        cv2.imwrite(os.path.join(path+'/inv/',filename), img)\n",
    "\n",
    "invert_and_rotate_images(r\"D:\\academic_material\\third_year\\imageProcessing\\repos\\LogIm\\phase_1\\datasets\\symbol2\\B_emn\")\n"
   ]
  }
 ],
 "metadata": {
  "kernelspec": {
   "display_name": "Python 3.9.13 ('base')",
   "language": "python",
   "name": "python3"
  },
  "language_info": {
   "codemirror_mode": {
    "name": "ipython",
    "version": 3
   },
   "file_extension": ".py",
   "mimetype": "text/x-python",
   "name": "python",
   "nbconvert_exporter": "python",
   "pygments_lexer": "ipython3",
   "version": "3.9.13"
  },
  "papermill": {
   "default_parameters": {},
   "duration": 260.435714,
   "end_time": "2021-12-18T11:41:52.516016",
   "environment_variables": {},
   "exception": null,
   "input_path": "__notebook__.ipynb",
   "output_path": "__notebook__.ipynb",
   "parameters": {},
   "start_time": "2021-12-18T11:37:32.080302",
   "version": "2.3.3"
  },
  "vscode": {
   "interpreter": {
    "hash": "259b4fef693b2d75168774e41cff93a193031b347008aedd7a32d46d0530600c"
   }
  }
 },
 "nbformat": 4,
 "nbformat_minor": 5
}
