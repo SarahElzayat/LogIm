{
 "cells": [
  {
   "cell_type": "code",
   "execution_count": null,
   "metadata": {},
   "outputs": [],
   "source": []
  }
 ],
 "metadata": {
  "kernelspec": {
   "display_name": "Python 3.9.12 ('py39')",
   "language": "python",
   "name": "python3"
  },
  "language_info": {
   "name": "python",
   "version": "3.9.12"
  },
  "orig_nbformat": 4,
  "vscode": {
   "interpreter": {
    "hash": "8b7cb3eff9408597125ae058882f88ba16460fda369a0b9ade5bfac8e11378a0"
   }
  }
 },
 "nbformat": 4,
 "nbformat_minor": 2
}
