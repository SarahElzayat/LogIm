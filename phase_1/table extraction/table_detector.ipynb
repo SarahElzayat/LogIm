{
 "cells": [
  {
   "cell_type": "code",
   "execution_count": 218,
   "metadata": {},
   "outputs": [],
   "source": [
    "import cv2\n",
    "import numpy as np\n",
    "import numpy as np\n",
    "import argparse\n",
    "import cv2\n",
    "from commonfunctions import *\n",
    "import math    \n",
    "\n",
    "from utlis import *\n",
    "import functools"
   ]
  },
  {
   "cell_type": "code",
   "execution_count": 219,
   "metadata": {},
   "outputs": [],
   "source": [
    "def count_rows(horizontal_lines_img, img, showTrace):\n",
    "    lines = cv2.HoughLinesP(horizontal_lines_img,rho =5,theta = 1*np.pi/180,threshold = 50,minLineLength = 200,maxLineGap = 50)\n",
    "    N = lines.shape[0]\n",
    "    h_lines  = []\n",
    "\n",
    "    for i in range(N):\n",
    "        if lines[i][0][1] == lines[i][0][3]:\n",
    "            x1 = lines[i][0][0]\n",
    "            y1 = lines[i][0][1]    \n",
    "            x2 = lines[i][0][2]\n",
    "            y2 = lines[i][0][3]    \n",
    "            h_lines.append((x1,y1,x2,y2))\n",
    "\n",
    "    def sort_horizantal_lines(br_a, br_b):\n",
    "        return br_a[1] - br_b[1]\n",
    "\n",
    "    sorted_lines = sorted(h_lines, key=functools.cmp_to_key(sort_horizantal_lines))\n",
    "\n",
    "    def filter_sorted_lines(array):\n",
    "        length = len(array)-1\n",
    "        i=0\n",
    "        while i<length:\n",
    "            if abs(array[i][1]-array[i+1][1])<= 10:\n",
    "                array.pop(i)\n",
    "                length = length-1\n",
    "                i=i-1\n",
    "            i=i+1        \n",
    "\n",
    "    result = filter_sorted_lines(sorted_lines)\n",
    "\n",
    "    if(showTrace):\n",
    "        print(\"count rows\", len(sorted_lines))\n",
    "\n",
    "        img2 = cv2.merge((img,img,img))\n",
    "\n",
    "        for i in range(len(sorted_lines)):\n",
    "            x1 = lines[i][0][0]\n",
    "            y1 = lines[i][0][1]    \n",
    "            x2 = lines[i][0][2]\n",
    "            y2 = lines[i][0][3]    \n",
    "            cv2.line(img2,(x1,y1),(x2,y2),(0,255,0),2)\n",
    "\n",
    "        plt.figure(),plt.imshow(img2),plt.title('Hough Lines'),plt.axis('off')\n",
    "        plt.show()\n",
    "\n",
    "    return len(sorted_lines)-1\n"
   ]
  },
  {
   "cell_type": "code",
   "execution_count": 220,
   "metadata": {},
   "outputs": [
    {
     "name": "stdout",
     "output_type": "stream",
     "text": [
      "3\n"
     ]
    },
    {
     "data": {
      "image/png": "[encoded data removed]",
      "text/plain": [
       "<Figure size 432x288 with 1 Axes>"
      ]
     },
     "metadata": {
      "needs_background": "light"
     },
     "output_type": "display_data"
    },
    {
     "data": {
      "image/png": "[encoded data removed]",
      "text/plain": [
       "<Figure size 432x288 with 1 Axes>"
      ]
     },
     "metadata": {
      "needs_background": "light"
     },
     "output_type": "display_data"
    }
   ],
   "source": [
    "def box_extraction(img_for_box_extraction_path, showTrace):\n",
    "    img = cv2.imread(img_for_box_extraction_path, 0)\n",
    "    (thresh, img_bin) = cv2.threshold(img, 128, 255, cv2.THRESH_BINARY | cv2.THRESH_OTSU)  # Thresholding the image\n",
    "    img_bin = 255-img_bin  \n",
    "    kernel_length = np.array(img).shape[1]//40\n",
    "    \n",
    "    verticle_kernel = cv2.getStructuringElement(cv2.MORPH_RECT, (1, kernel_length))\n",
    "    hori_kernel = cv2.getStructuringElement(cv2.MORPH_RECT, (kernel_length, 1))\n",
    "\n",
    "    kernel = cv2.getStructuringElement(cv2.MORPH_RECT, (3, 3))\n",
    "    \n",
    "    img_temp1 = cv2.erode(img_bin, verticle_kernel, iterations=3)\n",
    "    verticle_lines_img = cv2.dilate(img_temp1, verticle_kernel, iterations=3)\n",
    "   \n",
    "    img_temp2 = cv2.erode(img_bin, hori_kernel, iterations=3)\n",
    "    horizontal_lines_img = cv2.dilate(img_temp2, hori_kernel, iterations=3)\n",
    "\n",
    "    contours, hierarchy = cv2.findContours(horizontal_lines_img, cv2.RETR_EXTERNAL, cv2.CHAIN_APPROX_SIMPLE)\n",
    "\n",
    "    # num_rows=3 # comment this line when detect number of rows\n",
    "    num_rows=count_rows(horizontal_lines_img, img,showTrace) \n",
    "\n",
    "    # Weighting parameters, this will decide the quantity of an image to be added to make a new image.\n",
    "    alpha = 0.5\n",
    "    beta = 1.0 - alpha\n",
    "    # This function helps to add two image with specific weight parameter to get a third image as summation of two image.\n",
    "    img_final_bin = cv2.addWeighted(verticle_lines_img, alpha, horizontal_lines_img, beta, 0.0)\n",
    "    \n",
    "\n",
    "    img_final_bin = cv2.erode(~img_final_bin, kernel, iterations=2)\n",
    "    (thresh, img_final_bin) = cv2.threshold(img_final_bin, 128, 255, cv2.THRESH_BINARY_INV | cv2.THRESH_OTSU)\n",
    "    \n",
    "    # to get the countours clear of the image\n",
    "    kernel_two = np.ones((7, 7))\n",
    "    dilatedImg = cv2.dilate(img_final_bin, kernel_two, iterations=3)\n",
    "    img_final_bin = cv2.erode(dilatedImg, kernel_two, iterations=1)\n",
    "\n",
    "    # cv2.imwrite(\"img_final_bin.jpg\",img_final_bin)\n",
    "\n",
    "    # Find contours for image, which will detect all the boxes\n",
    "    contours, hierarchy = cv2.findContours(img_final_bin, cv2.RETR_TREE, cv2.CHAIN_APPROX_SIMPLE)\n",
    "\n",
    "    boundingBox_arr = []\n",
    "\n",
    "    for c in contours:\n",
    "        # Returns the location and width,height for every contour\n",
    "        x, y, w, h = cv2.boundingRect(c)\n",
    "        if w < img_final_bin.shape[1]//40 or h < img_final_bin.shape[0]//40 or w > img_final_bin.shape[1]//2 or h > img_final_bin.shape[0]//2:\n",
    "            continue\n",
    "        boundingBox_arr.append(cv2.boundingRect(c))\n",
    "\n",
    "\n",
    "    def contour_sort(br_a, br_b):\n",
    "\n",
    "        if abs(br_a[1] - br_b[1]) <= 15:\n",
    "            return br_a[0] - br_b[0]\n",
    "\n",
    "        return br_a[1] - br_b[1]\n",
    "\n",
    "\n",
    "    boundingBox_arr = sorted(boundingBox_arr, key=functools.cmp_to_key(contour_sort))\n",
    "\n",
    "    num_cols = int(len(boundingBox_arr)/num_rows)\n",
    "\n",
    "    if(showTrace):\n",
    "        print(len(boundingBox_arr))\n",
    "        print(num_cols,num_rows)\n",
    "    \n",
    "    arr = []\n",
    "    for c in boundingBox_arr:\n",
    "        arr.append(img[c[1]:c[1]+c[3], c[0]:c[0]+c[2]])\n",
    "        if(showTrace):\n",
    "            new_img = img[c[1]:c[1]+c[3], c[0]:c[0]+c[2]]\n",
    "            show_images([new_img])\n",
    "\n",
    "\n",
    "    # arr = np.asarray(arr, dtype=\"object\").reshape((num_rows ,num_cols ))\n",
    "\n",
    "    # this shows the first 4 lines of the table who have 3 inputs\n",
    "    if(showTrace): \n",
    "        show_images([arr[0][0],arr[0][1],arr[0][2],arr[0][3]])\n",
    "        show_images([arr[1][0],arr[1][1],arr[1][2],arr[1][3]])\n",
    "        show_images([arr[2][0],arr[2][1],arr[2][2],arr[2][3]])\n",
    "        show_images([arr[3][0],arr[3][1],arr[3][2],arr[3][3]])\n",
    "    \n",
    "    return arr, num_cols\n",
    "\n",
    "array, col = box_extraction(\"../printed.jpg\", showTrace=False)\n",
    "\n",
    "# show_images([array[0]])\n",
    "# show_images([array[4]])\n"
   ]
  }
 ],
 "metadata": {
  "kernelspec": {
   "display_name": "Python 3.9.12 ('base')",
   "language": "python",
   "name": "python3"
  },
  "language_info": {
   "codemirror_mode": {
    "name": "ipython",
    "version": 3
   },
   "file_extension": ".py",
   "mimetype": "text/x-python",
   "name": "python",
   "nbconvert_exporter": "python",
   "pygments_lexer": "ipython3",
   "version": "3.9.12"
  },
  "orig_nbformat": 4,
  "vscode": {
   "interpreter": {
    "hash": "52d90d3cc821dd0beedd6e719dbdecc722c226b9d90ed1b663c34e1877f1142e"
   }
  }
 },
 "nbformat": 4,
 "nbformat_minor": 2
}
