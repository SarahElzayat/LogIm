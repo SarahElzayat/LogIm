{
 "cells": [
  {
   "cell_type": "code",
   "execution_count": null,
   "metadata": {},
   "outputs": [],
   "source": [
    "def apply_threshold(filtered):\n",
    "    \"\"\"\n",
    "    Apply OTSU threshold\n",
    "    Args:\n",
    "        filtered: np.array\n",
    "    Returns:\n",
    "        thresh: np.array\n",
    "    \"\"\"\n",
    "    ret, thresh = cv2.threshold(filtered, 250, 255, cv2.THRESH_OTSU)\n",
    "    plt.imshow(cv2.cvtColor(thresh, cv2.COLOR_BGR2RGB))\n",
    "    plt.title('After applying OTSU threshold')\n",
    "    plt.show()\n",
    "    return thresh\n",
    "\n",
    "def detect_contour(img, image_shape):\n",
    "    \"\"\"\n",
    "    Args:\n",
    "        img: np.array()\n",
    "        image_shape: tuple\n",
    "    Returns:\n",
    "        canvas: np.array()\n",
    "        cnt: list\n",
    "    \"\"\"\n",
    "    canvas = np.zeros(image_shape, np.uint8)\n",
    "    contours, hierarchy = cv2.findContours(img, cv2.RETR_TREE, cv2.CHAIN_APPROX_NONE)\n",
    "    cnt = sorted(contours, key=cv2.contourArea, reverse=True)[0]\n",
    "    cv2.drawContours(canvas, cnt, -1, (0, 255, 255), 3)\n",
    "    plt.title('Largest Contour')\n",
    "    plt.imshow(canvas)\n",
    "    plt.show()\n",
    "\n",
    "    return canvas, cnt\n",
    "\n",
    "image = cv2.imread('./test_images/1.png')\n",
    "gray = 255 - cv2.cvtColor(image, cv2.COLOR_BGR2GRAY)\n",
    "thresh = cv2.threshold(gray,0,255,cv2.THRESH_OTSU + cv2.THRESH_BINARY)[1]\n",
    "thresh = apply_threshold(thresh)\n",
    "detect_contour(thresh, image.shape)\n"
   ]
  },
  {
   "cell_type": "code",
   "execution_count": null,
   "metadata": {},
   "outputs": [],
   "source": [
    "import cv2\n",
    "from imutils import contours\n",
    "import matplotlib.pyplot as plt\n",
    "\n",
    "image = cv2.imread('./test_images/1.png')\n",
    "gray =255-  cv2.cvtColor(image, cv2.COLOR_BGR2GRAY)\n",
    "thresh = cv2.threshold(gray,0,255,cv2.THRESH_OTSU + cv2.THRESH_BINARY)[1]\n",
    "\n",
    "cnts = cv2.findContours(thresh, cv2.RETR_TREE, cv2.CHAIN_APPROX_SIMPLE)\n",
    "cnts = cnts[0] if len(cnts) == 2 else cnts[1]\n",
    "\n",
    "ROI_number = 0\n",
    "for c in cnts:\n",
    "    area = cv2.contourArea(c)\n",
    "    if area > 10:\n",
    "        x,y,w,h = cv2.boundingRect(c)\n",
    "        ROI = 255 - thresh[y:y+h, x:x+w]\n",
    "        # cv2.imwrite('ROI_{}.png'.format(ROI_number), ROI)\n",
    "        cv2.rectangle(image, (x, y), (x + w, y + h), (36,255,12), 1)\n",
    "        ROI_number += 1\n",
    "# plt.imshow('thresh', thresh)\n",
    "plt.imshow(thresh)\n",
    "plt.show()\n",
    "plt.imshow(image)\n",
    "# plt.imshow('image', image)\n",
    "# cv2.waitKey()"
   ]
  },
  {
   "cell_type": "code",
   "execution_count": null,
   "metadata": {},
   "outputs": [],
   "source": [
    "# Width and heigth the image\n",
    "height, width = gray.shape\n",
    "# Sum the value lines \n",
    "vertical_px = np.sum(gray, axis=0)\n",
    "# Normalize\n",
    "normalize = vertical_px/255\n",
    "# create a black image with zeros \n",
    "blankImage = np.zeros_like(gray)\n",
    "# Make the vertical projection histogram\n",
    "for idx, value in enumerate(normalize):\n",
    "    cv2.line(blankImage, (idx, 0), (idx, height-int(value)), (122,255,200), 1)\n",
    "# Concatenate the image\n",
    "img_concate = cv2.vconcat([img,  cv2.cvtColor(blankImage, cv2.COLOR_BGR2RGB)])\n",
    "\n",
    "plt.imshow(img_concate)\n",
    "plt.show()"
   ]
  }
 ],
 "metadata": {
  "kernelspec": {
   "display_name": "Python 3.9.12 ('py39')",
   "language": "python",
   "name": "python3"
  },
  "language_info": {
   "name": "python",
   "version": "3.9.12"
  },
  "orig_nbformat": 4,
  "vscode": {
   "interpreter": {
    "hash": "8b7cb3eff9408597125ae058882f88ba16460fda369a0b9ade5bfac8e11378a0"
   }
  }
 },
 "nbformat": 4,
 "nbformat_minor": 2
}
